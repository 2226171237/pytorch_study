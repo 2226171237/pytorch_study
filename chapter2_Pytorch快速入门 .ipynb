{
  "nbformat": 4,
  "nbformat_minor": 0,
  "metadata": {
    "colab": {
      "name": "chapter2_Pytorch快速入门.ipynb",
      "version": "0.3.2",
      "provenance": [],
      "collapsed_sections": []
    },
    "kernelspec": {
      "name": "python3",
      "display_name": "Python 3"
    },
    "accelerator": "GPU"
  },
  "cells": [
    {
      "metadata": {
        "id": "WDt62R6swTSh",
        "colab_type": "text"
      },
      "cell_type": "markdown",
      "source": [
        "# PyTorch第一步\n",
        "先介绍pytorch的基础知识，快速入门。"
      ]
    },
    {
      "metadata": {
        "id": "ljyVx3acwTSj",
        "colab_type": "text"
      },
      "cell_type": "markdown",
      "source": [
        "## Tensor\n",
        "Tensor是PyTorch中重要的数据结构，可认为是一个高维数组。它可以是一个数（标量）、一维数组（向量）、二维数组（矩阵）以及更高维的数组。Tensor和Numpy的ndarrays类似，但Tensor可以使用GPU进行加速。Tensor的使用和Numpy及Matlab的接口十分相似，下面通过几个例子来看看Tensor的基本使用。"
      ]
    },
    {
      "metadata": {
        "id": "GB7kfNhiwTSk",
        "colab_type": "code",
        "outputId": "7327e760-3c5f-435f-c378-273ab16fa1ff",
        "colab": {
          "base_uri": "https://localhost:8080/",
          "height": 34
        }
      },
      "cell_type": "code",
      "source": [
        "from __future__ import print_function\n",
        "import torch as t\n",
        "t.__version__"
      ],
      "execution_count": 0,
      "outputs": [
        {
          "output_type": "execute_result",
          "data": {
            "text/plain": [
              "'1.0.1.post2'"
            ]
          },
          "metadata": {
            "tags": []
          },
          "execution_count": 62
        }
      ]
    },
    {
      "metadata": {
        "id": "OLNRvN0Iw2yA",
        "colab_type": "text"
      },
      "cell_type": "markdown",
      "source": [
        "构建$5\\times 3$的矩阵，只是分配了恐怖关键，未初始化。"
      ]
    },
    {
      "metadata": {
        "id": "gLi8gXNCw_QT",
        "colab_type": "code",
        "outputId": "ac5b1612-811a-4cb2-d8b0-8248ee502813",
        "colab": {
          "base_uri": "https://localhost:8080/",
          "height": 50
        }
      },
      "cell_type": "code",
      "source": [
        "x=t.Tensor(5,3)\n",
        "x=t.Tensor([[1,2],[3,4]])\n",
        "x"
      ],
      "execution_count": 0,
      "outputs": [
        {
          "output_type": "execute_result",
          "data": {
            "text/plain": [
              "tensor([[1., 2.],\n",
              "        [3., 4.]])"
            ]
          },
          "metadata": {
            "tags": []
          },
          "execution_count": 63
        }
      ]
    },
    {
      "metadata": {
        "id": "AiJt_dGax_Vp",
        "colab_type": "text"
      },
      "cell_type": "markdown",
      "source": [
        "使用【0，1】均匀分布随机初始化二维数组"
      ]
    },
    {
      "metadata": {
        "id": "PFA61VatyO43",
        "colab_type": "code",
        "outputId": "c5214658-0090-420c-dc2a-deea61fca7d1",
        "colab": {
          "base_uri": "https://localhost:8080/",
          "height": 101
        }
      },
      "cell_type": "code",
      "source": [
        "x=t.rand(5,3)\n",
        "x"
      ],
      "execution_count": 0,
      "outputs": [
        {
          "output_type": "execute_result",
          "data": {
            "text/plain": [
              "tensor([[0.0102, 0.9915, 0.7232],\n",
              "        [0.6824, 0.7370, 0.9734],\n",
              "        [0.2880, 0.8735, 0.4868],\n",
              "        [0.3590, 0.8849, 0.1218],\n",
              "        [0.0538, 0.5620, 0.9562]])"
            ]
          },
          "metadata": {
            "tags": []
          },
          "execution_count": 64
        }
      ]
    },
    {
      "metadata": {
        "id": "yrxbmqBoy8Iz",
        "colab_type": "text"
      },
      "cell_type": "markdown",
      "source": [
        "查看x的形状"
      ]
    },
    {
      "metadata": {
        "id": "s7xQ6ermyXou",
        "colab_type": "code",
        "outputId": "595cc071-f9ca-4fd2-9604-db520c2b81f6",
        "colab": {
          "base_uri": "https://localhost:8080/",
          "height": 50
        }
      },
      "cell_type": "code",
      "source": [
        "print(x.size())\n",
        "x.size()[1],x.size(1) #两种写法等价"
      ],
      "execution_count": 0,
      "outputs": [
        {
          "output_type": "stream",
          "text": [
            "torch.Size([5, 3])\n"
          ],
          "name": "stdout"
        },
        {
          "output_type": "execute_result",
          "data": {
            "text/plain": [
              "(3, 3)"
            ]
          },
          "metadata": {
            "tags": []
          },
          "execution_count": 65
        }
      ]
    },
    {
      "metadata": {
        "id": "Et0qnoJgzHor",
        "colab_type": "text"
      },
      "cell_type": "markdown",
      "source": [
        "tensor.Size是tuple对象的子类，因此它支持tuple的所有操作，如x.size[0]"
      ]
    },
    {
      "metadata": {
        "id": "BrZxnXtkykwJ",
        "colab_type": "code",
        "outputId": "3a772841-cd49-4ac8-b341-6d5237625b2a",
        "colab": {
          "base_uri": "https://localhost:8080/",
          "height": 50
        }
      },
      "cell_type": "code",
      "source": [
        "print(x.shape)\n",
        "x.shape[0]"
      ],
      "execution_count": 0,
      "outputs": [
        {
          "output_type": "stream",
          "text": [
            "torch.Size([5, 3])\n"
          ],
          "name": "stdout"
        },
        {
          "output_type": "execute_result",
          "data": {
            "text/plain": [
              "5"
            ]
          },
          "metadata": {
            "tags": []
          },
          "execution_count": 66
        }
      ]
    },
    {
      "metadata": {
        "id": "OIAcH40QysHL",
        "colab_type": "text"
      },
      "cell_type": "markdown",
      "source": [
        "加法运算"
      ]
    },
    {
      "metadata": {
        "id": "dTORBz7edwcL",
        "colab_type": "code",
        "outputId": "fb57d8a9-7da3-4c34-bcd7-030cd5a4f016",
        "colab": {
          "base_uri": "https://localhost:8080/",
          "height": 101
        }
      },
      "cell_type": "code",
      "source": [
        "y=t.rand(5,3)\n",
        "\n",
        "#加法运算第一种写法\n",
        "x+y"
      ],
      "execution_count": 0,
      "outputs": [
        {
          "output_type": "execute_result",
          "data": {
            "text/plain": [
              "tensor([[0.9517, 1.1541, 1.1738],\n",
              "        [0.8608, 1.6968, 1.6411],\n",
              "        [1.2032, 1.6981, 0.9922],\n",
              "        [0.9644, 1.3020, 1.0702],\n",
              "        [0.9234, 1.2086, 1.0581]])"
            ]
          },
          "metadata": {
            "tags": []
          },
          "execution_count": 67
        }
      ]
    },
    {
      "metadata": {
        "id": "MV_5inJLeIIx",
        "colab_type": "code",
        "outputId": "75a0b954-291d-413a-9dab-087a718c9562",
        "colab": {
          "base_uri": "https://localhost:8080/",
          "height": 101
        }
      },
      "cell_type": "code",
      "source": [
        "#第二种写法\n",
        "t.add(x,y)"
      ],
      "execution_count": 0,
      "outputs": [
        {
          "output_type": "execute_result",
          "data": {
            "text/plain": [
              "tensor([[0.9517, 1.1541, 1.1738],\n",
              "        [0.8608, 1.6968, 1.6411],\n",
              "        [1.2032, 1.6981, 0.9922],\n",
              "        [0.9644, 1.3020, 1.0702],\n",
              "        [0.9234, 1.2086, 1.0581]])"
            ]
          },
          "metadata": {
            "tags": []
          },
          "execution_count": 68
        }
      ]
    },
    {
      "metadata": {
        "id": "hyPzTFzFeNio",
        "colab_type": "code",
        "outputId": "e7e9fbd0-0e6a-49ca-81a1-202272be1bb6",
        "colab": {
          "base_uri": "https://localhost:8080/",
          "height": 101
        }
      },
      "cell_type": "code",
      "source": [
        "#第三种写法，指定结果输出为result\n",
        "result=t.Tensor(5,3) #预先分配空间\n",
        "t.add(x,y,out=result)\n",
        "result"
      ],
      "execution_count": 0,
      "outputs": [
        {
          "output_type": "execute_result",
          "data": {
            "text/plain": [
              "tensor([[0.9517, 1.1541, 1.1738],\n",
              "        [0.8608, 1.6968, 1.6411],\n",
              "        [1.2032, 1.6981, 0.9922],\n",
              "        [0.9644, 1.3020, 1.0702],\n",
              "        [0.9234, 1.2086, 1.0581]])"
            ]
          },
          "metadata": {
            "tags": []
          },
          "execution_count": 69
        }
      ]
    },
    {
      "metadata": {
        "id": "sbWOeKE9egLB",
        "colab_type": "code",
        "outputId": "8b4bfa4b-e9e3-45e0-85d5-ee9d7f143844",
        "colab": {
          "base_uri": "https://localhost:8080/",
          "height": 319
        }
      },
      "cell_type": "code",
      "source": [
        "print('最初的y')\n",
        "print(y)\n",
        "\n",
        "print('第一种加法，y的结果')\n",
        "y.add(x)\n",
        "print(y)\n",
        "\n",
        "print('第二种加法，y的结果')\n",
        "y.add_(x) #inplace加法，y变了\n",
        "print(y)"
      ],
      "execution_count": 0,
      "outputs": [
        {
          "output_type": "stream",
          "text": [
            "最初的y\n",
            "tensor([[0.9415, 0.1626, 0.4506],\n",
            "        [0.1783, 0.9598, 0.6677],\n",
            "        [0.9152, 0.8246, 0.5054],\n",
            "        [0.6054, 0.4171, 0.9484],\n",
            "        [0.8696, 0.6467, 0.1019]])\n",
            "第一种加法，y的结果\n",
            "tensor([[0.9415, 0.1626, 0.4506],\n",
            "        [0.1783, 0.9598, 0.6677],\n",
            "        [0.9152, 0.8246, 0.5054],\n",
            "        [0.6054, 0.4171, 0.9484],\n",
            "        [0.8696, 0.6467, 0.1019]])\n",
            "第二种加法，y的结果\n",
            "tensor([[0.9517, 1.1541, 1.1738],\n",
            "        [0.8608, 1.6968, 1.6411],\n",
            "        [1.2032, 1.6981, 0.9922],\n",
            "        [0.9644, 1.3020, 1.0702],\n",
            "        [0.9234, 1.2086, 1.0581]])\n"
          ],
          "name": "stdout"
        }
      ]
    },
    {
      "metadata": {
        "id": "BUvj3zOqe_qw",
        "colab_type": "text"
      },
      "cell_type": "markdown",
      "source": [
        "注意，函数名后面带下划线_ 的函数会修改Tensor本身。例如，x.add_(y)和x.t_()会改变 x，但x.add(y)和x.t()返回一个新的Tensor， 而x不变。"
      ]
    },
    {
      "metadata": {
        "id": "jRaORXyYfT6v",
        "colab_type": "text"
      },
      "cell_type": "markdown",
      "source": [
        "tensor索引"
      ]
    },
    {
      "metadata": {
        "id": "GAlybFpPjCxY",
        "colab_type": "code",
        "outputId": "5d652e9a-602a-4131-c7d4-a238c72ffa6f",
        "colab": {
          "base_uri": "https://localhost:8080/",
          "height": 34
        }
      },
      "cell_type": "code",
      "source": [
        "x[:,1]"
      ],
      "execution_count": 0,
      "outputs": [
        {
          "output_type": "execute_result",
          "data": {
            "text/plain": [
              "tensor([0.9915, 0.7370, 0.8735, 0.8849, 0.5620])"
            ]
          },
          "metadata": {
            "tags": []
          },
          "execution_count": 71
        }
      ]
    },
    {
      "metadata": {
        "id": "JwuyrjqOjEwg",
        "colab_type": "text"
      },
      "cell_type": "markdown",
      "source": [
        "Tensor还支持很多操作，包括数学运算、线性代数、选择、切片等等，其接口设计与Numpy极为相似。更详细的使用方法，会在第三章系统讲解。\n",
        "\n",
        "Tensor和Numpy的数组之间的互操作非常容易且快速。对于Tensor不支持的操作，可以先转为Numpy数组处理，之后再转回Tensor。c"
      ]
    },
    {
      "metadata": {
        "id": "aFulLzLYjPln",
        "colab_type": "code",
        "outputId": "1a887ec7-e706-4507-8d30-687198b76145",
        "colab": {
          "base_uri": "https://localhost:8080/",
          "height": 34
        }
      },
      "cell_type": "code",
      "source": [
        "a=t.ones(5)\n",
        "a"
      ],
      "execution_count": 0,
      "outputs": [
        {
          "output_type": "execute_result",
          "data": {
            "text/plain": [
              "tensor([1., 1., 1., 1., 1.])"
            ]
          },
          "metadata": {
            "tags": []
          },
          "execution_count": 72
        }
      ]
    },
    {
      "metadata": {
        "id": "O5yqcEAcjWp5",
        "colab_type": "code",
        "outputId": "1ba93769-892c-446e-b682-4dc834070488",
        "colab": {
          "base_uri": "https://localhost:8080/",
          "height": 34
        }
      },
      "cell_type": "code",
      "source": [
        "b=a.numpy() #tensor to numpy\n",
        "b"
      ],
      "execution_count": 0,
      "outputs": [
        {
          "output_type": "execute_result",
          "data": {
            "text/plain": [
              "array([1., 1., 1., 1., 1.], dtype=float32)"
            ]
          },
          "metadata": {
            "tags": []
          },
          "execution_count": 73
        }
      ]
    },
    {
      "metadata": {
        "id": "SzN2uRUCjn76",
        "colab_type": "text"
      },
      "cell_type": "markdown",
      "source": [
        "numpy to tensor"
      ]
    },
    {
      "metadata": {
        "id": "tUVkPcH3jbln",
        "colab_type": "code",
        "outputId": "544a5e63-2afb-4576-a171-ae13acdd6594",
        "colab": {
          "base_uri": "https://localhost:8080/",
          "height": 50
        }
      },
      "cell_type": "code",
      "source": [
        "import numpy as np\n",
        "a=np.ones(5)\n",
        "b=t.from_numpy(a)\n",
        "print(a)\n",
        "print(b)"
      ],
      "execution_count": 0,
      "outputs": [
        {
          "output_type": "stream",
          "text": [
            "[1. 1. 1. 1. 1.]\n",
            "tensor([1., 1., 1., 1., 1.], dtype=torch.float64)\n"
          ],
          "name": "stdout"
        }
      ]
    },
    {
      "metadata": {
        "id": "qqfa34ZbjlRD",
        "colab_type": "text"
      },
      "cell_type": "markdown",
      "source": [
        "如果你想获取某一个元素的值，可以使用scalar.item。 直接tensor[idx]得到的还是一个tensor: 一个0-dim 的tensor，一般称为scalar."
      ]
    },
    {
      "metadata": {
        "id": "9HG-KVHbj5fc",
        "colab_type": "code",
        "outputId": "e9653f0c-67d6-4384-ba4d-b4f1e55bfc03",
        "colab": {
          "base_uri": "https://localhost:8080/",
          "height": 34
        }
      },
      "cell_type": "code",
      "source": [
        "scalar=b[0]\n",
        "scalar"
      ],
      "execution_count": 0,
      "outputs": [
        {
          "output_type": "execute_result",
          "data": {
            "text/plain": [
              "tensor(1., dtype=torch.float64)"
            ]
          },
          "metadata": {
            "tags": []
          },
          "execution_count": 75
        }
      ]
    },
    {
      "metadata": {
        "id": "HY77C_ShkBNI",
        "colab_type": "code",
        "outputId": "a306be41-5766-4d90-bdd5-724a4df52d39",
        "colab": {
          "base_uri": "https://localhost:8080/",
          "height": 34
        }
      },
      "cell_type": "code",
      "source": [
        "scalar.size()"
      ],
      "execution_count": 0,
      "outputs": [
        {
          "output_type": "execute_result",
          "data": {
            "text/plain": [
              "torch.Size([])"
            ]
          },
          "metadata": {
            "tags": []
          },
          "execution_count": 76
        }
      ]
    },
    {
      "metadata": {
        "id": "NbgCH4GDkDvr",
        "colab_type": "code",
        "outputId": "acc91df1-fcef-4f8e-f624-9b24ed60a883",
        "colab": {
          "base_uri": "https://localhost:8080/",
          "height": 34
        }
      },
      "cell_type": "code",
      "source": [
        "# 使用scalar().item()从中取出python对象数值\n",
        "scalar.item()"
      ],
      "execution_count": 0,
      "outputs": [
        {
          "output_type": "execute_result",
          "data": {
            "text/plain": [
              "1.0"
            ]
          },
          "metadata": {
            "tags": []
          },
          "execution_count": 77
        }
      ]
    },
    {
      "metadata": {
        "id": "zDVjJRTEkUjE",
        "colab_type": "code",
        "outputId": "a3cc218a-a218-4815-f2e6-b0738d94310c",
        "colab": {
          "base_uri": "https://localhost:8080/",
          "height": 34
        }
      },
      "cell_type": "code",
      "source": [
        "tensor=t.tensor([1])\n",
        "tensor,scalar"
      ],
      "execution_count": 0,
      "outputs": [
        {
          "output_type": "execute_result",
          "data": {
            "text/plain": [
              "(tensor([1]), tensor(1., dtype=torch.float64))"
            ]
          },
          "metadata": {
            "tags": []
          },
          "execution_count": 78
        }
      ]
    },
    {
      "metadata": {
        "id": "Caf2HRhSkepb",
        "colab_type": "code",
        "outputId": "82c2011d-48ef-4d3e-e5fc-416b860ee811",
        "colab": {
          "base_uri": "https://localhost:8080/",
          "height": 34
        }
      },
      "cell_type": "code",
      "source": [
        "tensor.shape,scalar.shape"
      ],
      "execution_count": 0,
      "outputs": [
        {
          "output_type": "execute_result",
          "data": {
            "text/plain": [
              "(torch.Size([1]), torch.Size([]))"
            ]
          },
          "metadata": {
            "tags": []
          },
          "execution_count": 79
        }
      ]
    },
    {
      "metadata": {
        "id": "2rxT1U7okpvB",
        "colab_type": "code",
        "outputId": "f69fbed7-427e-4770-a499-9a6bf8b91d68",
        "colab": {
          "base_uri": "https://localhost:8080/",
          "height": 34
        }
      },
      "cell_type": "code",
      "source": [
        "# 只有一个元素的tensor也可以调用item\n",
        "tensor.item(),scalar.item()"
      ],
      "execution_count": 0,
      "outputs": [
        {
          "output_type": "execute_result",
          "data": {
            "text/plain": [
              "(1, 1.0)"
            ]
          },
          "metadata": {
            "tags": []
          },
          "execution_count": 80
        }
      ]
    },
    {
      "metadata": {
        "id": "BlhL9XHHk_Bl",
        "colab_type": "text"
      },
      "cell_type": "markdown",
      "source": [
        "此外在pytorch中还有一个和np.array 很类似的接口: torch.tensor, 二者的使用十分类似。"
      ]
    },
    {
      "metadata": {
        "id": "cIot5dJNlLnE",
        "colab_type": "code",
        "colab": {}
      },
      "cell_type": "code",
      "source": [
        "tensor=t.tensor([3,4]) #创建一个有两个元素的一维tensor"
      ],
      "execution_count": 0,
      "outputs": []
    },
    {
      "metadata": {
        "id": "ZYxZjHsjldox",
        "colab_type": "code",
        "outputId": "9b672c78-11e0-4aa6-922e-ac8a653dfca6",
        "colab": {
          "base_uri": "https://localhost:8080/",
          "height": 34
        }
      },
      "cell_type": "code",
      "source": [
        "scalar=t.tensor(3)#常见0维的tensor,即scalar\n",
        "scalar,scalar.shape,tensor,tensor.shape"
      ],
      "execution_count": 0,
      "outputs": [
        {
          "output_type": "execute_result",
          "data": {
            "text/plain": [
              "(tensor(3), torch.Size([]), tensor([3, 4]), torch.Size([2]))"
            ]
          },
          "metadata": {
            "tags": []
          },
          "execution_count": 82
        }
      ]
    },
    {
      "metadata": {
        "id": "KoJ0X4jDmKuv",
        "colab_type": "text"
      },
      "cell_type": "markdown",
      "source": [
        "需要注意的是，t.tensor()总是会进行数据拷贝，新tensor和原来的数据不再共享内存。所以如果你想共享内存的话，建议使用torch.from_numpy()或者tensor.detach()来新建一个tensor, 二者共享内存。"
      ]
    },
    {
      "metadata": {
        "id": "Yh9-iN2plnod",
        "colab_type": "code",
        "outputId": "3259c40c-df4f-413b-c6b9-90e8b2c194e6",
        "colab": {
          "base_uri": "https://localhost:8080/",
          "height": 87
        }
      },
      "cell_type": "code",
      "source": [
        "old_tensor=tensor\n",
        "new_tensor=t.tensor(old_tensor)\n",
        "new_tensor[0]=11\n",
        "old_tensor,new_tensor"
      ],
      "execution_count": 0,
      "outputs": [
        {
          "output_type": "stream",
          "text": [
            "/usr/local/lib/python3.6/dist-packages/ipykernel_launcher.py:2: UserWarning: To copy construct from a tensor, it is recommended to use sourceTensor.clone().detach() or sourceTensor.clone().detach().requires_grad_(True), rather than torch.tensor(sourceTensor).\n",
            "  \n"
          ],
          "name": "stderr"
        },
        {
          "output_type": "execute_result",
          "data": {
            "text/plain": [
              "(tensor([3, 4]), tensor([11,  4]))"
            ]
          },
          "metadata": {
            "tags": []
          },
          "execution_count": 83
        }
      ]
    },
    {
      "metadata": {
        "id": "K3LhLsaNmDiL",
        "colab_type": "code",
        "outputId": "e029cbe5-383b-4154-fd76-7eb62df204bf",
        "colab": {
          "base_uri": "https://localhost:8080/",
          "height": 34
        }
      },
      "cell_type": "code",
      "source": [
        "new_tenso=old_tensor.detach() #好像不行\n",
        "new_tensor[0]=1111\n",
        "old_tensor,new_tensor"
      ],
      "execution_count": 0,
      "outputs": [
        {
          "output_type": "execute_result",
          "data": {
            "text/plain": [
              "(tensor([3, 4]), tensor([1111,    4]))"
            ]
          },
          "metadata": {
            "tags": []
          },
          "execution_count": 84
        }
      ]
    },
    {
      "metadata": {
        "id": "ZrZmbEG6mfdB",
        "colab_type": "text"
      },
      "cell_type": "markdown",
      "source": [
        "Tensor可通过.cuda 方法转为GPU的Tensor，从而享受GPU带来的加速运算。"
      ]
    },
    {
      "metadata": {
        "id": "In1_LXT6pnmK",
        "colab_type": "code",
        "outputId": "69799dfc-6c41-4f5b-99d6-f8b7b0193452",
        "colab": {
          "base_uri": "https://localhost:8080/",
          "height": 101
        }
      },
      "cell_type": "code",
      "source": [
        "device=t.device('cuda:0' if t.cuda.is_available() else 'cpu')\n",
        "x=x.to(device)\n",
        "y=y.to(device)\n",
        "z=x+y\n",
        "device,z"
      ],
      "execution_count": 0,
      "outputs": [
        {
          "output_type": "execute_result",
          "data": {
            "text/plain": [
              "(device(type='cuda', index=0), tensor([[0.9619, 2.1455, 1.8970],\n",
              "         [1.5432, 2.4338, 2.6144],\n",
              "         [1.4912, 2.5717, 1.4790],\n",
              "         [1.3234, 2.1870, 1.1920],\n",
              "         [0.9773, 1.7706, 2.0142]], device='cuda:0'))"
            ]
          },
          "metadata": {
            "tags": []
          },
          "execution_count": 85
        }
      ]
    },
    {
      "metadata": {
        "id": "OFTd3sOnp8zM",
        "colab_type": "text"
      },
      "cell_type": "markdown",
      "source": [
        "## autograd:自动微分\n",
        "\n",
        "深度学习的算法本质上是通过反向传播求导数，而PyTorch的autograd模块则实现了此功能。在Tensor上的所有操作，autograd都能为它们自动提供微分，避免了手动计算导数的复杂过程。\n",
        "\n",
        "![](http://localhost:8888/notebooks/pytorch/pytorch-book-master/chapter2-%E5%BF%AB%E9%80%9F%E5%85%A5%E9%97%A8/imgs/autograd_Variable.svg)\n",
        "\n",
        "从0.4起, Variable 正式合并入Tensor, Variable 本来实现的自动微分功能，Tensor就能支持。读者还是可以使用Variable(tensor), 但是这个操作其实什么都没做。建议读者以后直接使用tensor.\n",
        "\n",
        "要想使得Tensor使用autograd功能，只需要设置tensor.requries_grad=True."
      ]
    },
    {
      "metadata": {
        "id": "sZsM3AdQqMl0",
        "colab_type": "code",
        "outputId": "29d77189-c1ec-4a4d-ac09-db15ee6c1f17",
        "colab": {
          "base_uri": "https://localhost:8080/",
          "height": 50
        }
      },
      "cell_type": "code",
      "source": [
        "# 为tensor设置requries_grad=True,代表需要求导\n",
        "# pytorch会自动调用autograd记录操作\n",
        "\n",
        "x=t.ones(2,2,requires_grad=True)\n",
        "\n",
        "#上步等价于\n",
        "#x=t.ones(2,2)\n",
        "#x.requried_grad=True\n",
        "\n",
        "x"
      ],
      "execution_count": 0,
      "outputs": [
        {
          "output_type": "execute_result",
          "data": {
            "text/plain": [
              "tensor([[1., 1.],\n",
              "        [1., 1.]], requires_grad=True)"
            ]
          },
          "metadata": {
            "tags": []
          },
          "execution_count": 86
        }
      ]
    },
    {
      "metadata": {
        "id": "ntZtFJQZrMNW",
        "colab_type": "code",
        "outputId": "7fd84bc1-31c6-4543-febd-95b2324b5cfe",
        "colab": {
          "base_uri": "https://localhost:8080/",
          "height": 34
        }
      },
      "cell_type": "code",
      "source": [
        "y=x.sum()\n",
        "y"
      ],
      "execution_count": 0,
      "outputs": [
        {
          "output_type": "execute_result",
          "data": {
            "text/plain": [
              "tensor(4., grad_fn=<SumBackward0>)"
            ]
          },
          "metadata": {
            "tags": []
          },
          "execution_count": 87
        }
      ]
    },
    {
      "metadata": {
        "id": "7HTVCwg1rRUn",
        "colab_type": "code",
        "outputId": "cc34aed3-8fc8-4c5e-c3f4-15f0a7bed935",
        "colab": {
          "base_uri": "https://localhost:8080/",
          "height": 34
        }
      },
      "cell_type": "code",
      "source": [
        "y.grad_fn"
      ],
      "execution_count": 0,
      "outputs": [
        {
          "output_type": "execute_result",
          "data": {
            "text/plain": [
              "<SumBackward0 at 0x7f54dd776b70>"
            ]
          },
          "metadata": {
            "tags": []
          },
          "execution_count": 88
        }
      ]
    },
    {
      "metadata": {
        "id": "mhWW1J68rV2W",
        "colab_type": "code",
        "colab": {}
      },
      "cell_type": "code",
      "source": [
        "y.backward() #反向传播，计算梯度"
      ],
      "execution_count": 0,
      "outputs": []
    },
    {
      "metadata": {
        "id": "Zyfpryh5rbtn",
        "colab_type": "code",
        "outputId": "2da4cc4e-e144-4af5-9e7a-ddd14a4c6531",
        "colab": {
          "base_uri": "https://localhost:8080/",
          "height": 50
        }
      },
      "cell_type": "code",
      "source": [
        "x.grad #取x得梯度"
      ],
      "execution_count": 0,
      "outputs": [
        {
          "output_type": "execute_result",
          "data": {
            "text/plain": [
              "tensor([[1., 1.],\n",
              "        [1., 1.]])"
            ]
          },
          "metadata": {
            "tags": []
          },
          "execution_count": 90
        }
      ]
    },
    {
      "metadata": {
        "id": "ALL5W_rqrhHx",
        "colab_type": "text"
      },
      "cell_type": "markdown",
      "source": [
        "注意：grad在反向传播过程中是累加的(accumulated)，这意味着每一次运行反向传播，梯度都会累加之前的梯度，所以反向传播之前需把梯度清零。"
      ]
    },
    {
      "metadata": {
        "id": "1zz9nJ5LruvM",
        "colab_type": "code",
        "outputId": "9f7ae5bd-7cff-40c0-f6ce-8d4143937cc1",
        "colab": {
          "base_uri": "https://localhost:8080/",
          "height": 50
        }
      },
      "cell_type": "code",
      "source": [
        "y.backward()\n",
        "x.grad"
      ],
      "execution_count": 0,
      "outputs": [
        {
          "output_type": "execute_result",
          "data": {
            "text/plain": [
              "tensor([[2., 2.],\n",
              "        [2., 2.]])"
            ]
          },
          "metadata": {
            "tags": []
          },
          "execution_count": 91
        }
      ]
    },
    {
      "metadata": {
        "id": "K_gmMLKzr4JX",
        "colab_type": "code",
        "outputId": "a6a57f77-7ba2-47bf-e9c2-d8ad6e24f084",
        "colab": {
          "base_uri": "https://localhost:8080/",
          "height": 50
        }
      },
      "cell_type": "code",
      "source": [
        "y.backward()\n",
        "x.grad"
      ],
      "execution_count": 0,
      "outputs": [
        {
          "output_type": "execute_result",
          "data": {
            "text/plain": [
              "tensor([[3., 3.],\n",
              "        [3., 3.]])"
            ]
          },
          "metadata": {
            "tags": []
          },
          "execution_count": 92
        }
      ]
    },
    {
      "metadata": {
        "id": "f0fKvdapr8Cj",
        "colab_type": "text"
      },
      "cell_type": "markdown",
      "source": [
        "梯度清理 zero_，\\_代表inplace操作，会修改自身，如add\\_"
      ]
    },
    {
      "metadata": {
        "id": "HaiYYEfxsKk4",
        "colab_type": "code",
        "outputId": "10781ace-6058-4cd2-feec-5f2ec66e31b8",
        "colab": {
          "base_uri": "https://localhost:8080/",
          "height": 50
        }
      },
      "cell_type": "code",
      "source": [
        "x.grad.zero_()"
      ],
      "execution_count": 0,
      "outputs": [
        {
          "output_type": "execute_result",
          "data": {
            "text/plain": [
              "tensor([[0., 0.],\n",
              "        [0., 0.]])"
            ]
          },
          "metadata": {
            "tags": []
          },
          "execution_count": 93
        }
      ]
    },
    {
      "metadata": {
        "id": "G17nCoxwsRbT",
        "colab_type": "code",
        "outputId": "b05f7f91-56f9-42db-9e26-4253e8aaa948",
        "colab": {
          "base_uri": "https://localhost:8080/",
          "height": 50
        }
      },
      "cell_type": "code",
      "source": [
        "y.backward()\n",
        "x.grad"
      ],
      "execution_count": 0,
      "outputs": [
        {
          "output_type": "execute_result",
          "data": {
            "text/plain": [
              "tensor([[1., 1.],\n",
              "        [1., 1.]])"
            ]
          },
          "metadata": {
            "tags": []
          },
          "execution_count": 94
        }
      ]
    },
    {
      "metadata": {
        "id": "wYlqJ6UysYZD",
        "colab_type": "text"
      },
      "cell_type": "markdown",
      "source": [
        "## 神经网络\n",
        "\n",
        "Autograd实现了反向传播功能，但是直接用来写深度学习的代码在很多情况下还是稍显复杂，torch.nn是专门为神经网络设计的模块化接口。nn构建于 Autograd之上，可用来定义和运行神经网络。nn.Module是nn中最重要的类，可把它看成是一个网络的封装，包含网络各层定义以及forward方法，调用forward(input)方法，可返回前向传播的结果。下面就以最早的卷积神经网络：LeNet为例，来看看如何用nn.Module实现。LeNet的网络结构如图2-7所示。\n",
        "\n",
        "![](http://localhost:8888/notebooks/pytorch/pytorch-book-master/chapter2-%E5%BF%AB%E9%80%9F%E5%85%A5%E9%97%A8/imgs/nn_lenet.png)\n",
        "\n",
        "这是一个基础的前向传播(feed-forward)网络: 接收输入，经过层层传递运算，得到输出。"
      ]
    },
    {
      "metadata": {
        "id": "4vgzMgT3uRxc",
        "colab_type": "text"
      },
      "cell_type": "markdown",
      "source": [
        "### 定义网络\n",
        "\n",
        "定义网络时，需要基础nn.Module类，类似于mxnet中得nn.Block类。并实现它的forward方法，把网络中具有可学习参数的层放在构造函数\\_\\_init\\_\\_中。如果某一层(如ReLU)不具有可学习的参数，则既可以放在构造函数中，也可以不放，但建议不放在其中，而在forward中使用nn.functional代替。"
      ]
    },
    {
      "metadata": {
        "id": "j559XZofu-_f",
        "colab_type": "code",
        "colab": {}
      },
      "cell_type": "code",
      "source": [
        "from torch import nn\n",
        "import torch.nn.functional as F"
      ],
      "execution_count": 0,
      "outputs": []
    },
    {
      "metadata": {
        "id": "zBtXRZ2ivVow",
        "colab_type": "code",
        "colab": {}
      },
      "cell_type": "code",
      "source": [
        "class LeNet(nn.Module):\n",
        "  def __init__(self):\n",
        "    super(LeNet,self).__init__()\n",
        "    \n",
        "    #卷积层1 ‘1’代表输入图像为单通道，‘6’代表输出通道数，‘5’代表卷积核为5*5\n",
        "    self.conv1=nn.Conv2d(in_channels=1,out_channels=6,kernel_size=5)\n",
        "    #卷积层2\n",
        "    self.conv2=nn.Conv2d(6,16,5)\n",
        "    #仿射函层，全连接层，y=Wx+b\n",
        "    #第一个参数为输入节点个数，第二个为输出个数\n",
        "    self.fc1=nn.Linear(in_features=16*5*5,out_features=120)\n",
        "    self.fc2=nn.Linear(120,84)\n",
        "    self.fc3=nn.Linear(84,10)\n",
        "    \n",
        "  def forward(self,X):\n",
        "    X=F.max_pool2d(F.relu(self.conv1(X)),(2,2))\n",
        "    X=F.max_pool2d(F.relu(self.conv2(X)),2)\n",
        "    #reshape\n",
        "    X=X.view(X.size()[0],-1)\n",
        "    X=F.relu(self.fc1(X))\n",
        "    X=F.relu(self.fc2(X))\n",
        "    X=self.fc3(X)\n",
        "    return X   "
      ],
      "execution_count": 0,
      "outputs": []
    },
    {
      "metadata": {
        "id": "Z08l9cKxx06s",
        "colab_type": "code",
        "outputId": "519e36d2-f6ab-44b7-fa77-c5c613c2cc02",
        "colab": {
          "base_uri": "https://localhost:8080/",
          "height": 134
        }
      },
      "cell_type": "code",
      "source": [
        "net=LeNet()\n",
        "print(net)"
      ],
      "execution_count": 0,
      "outputs": [
        {
          "output_type": "stream",
          "text": [
            "LeNet(\n",
            "  (conv1): Conv2d(1, 6, kernel_size=(5, 5), stride=(1, 1))\n",
            "  (conv2): Conv2d(6, 16, kernel_size=(5, 5), stride=(1, 1))\n",
            "  (fc1): Linear(in_features=400, out_features=120, bias=True)\n",
            "  (fc2): Linear(in_features=120, out_features=84, bias=True)\n",
            "  (fc3): Linear(in_features=84, out_features=10, bias=True)\n",
            ")\n"
          ],
          "name": "stdout"
        }
      ]
    },
    {
      "metadata": {
        "id": "ejBbplp8ypM1",
        "colab_type": "text"
      },
      "cell_type": "markdown",
      "source": [
        "只要在nn.Module的子类中定义了forward函数，backward函数就会自动被实现(利用autograd)。在forward 函数中可使用任何tensor支持的函数，还可以使用if、for循环、print、log等Python语法，写法和标准的Python写法一致。\n",
        "\n",
        "网络的可学习参数通过net.parameters()返回，net.named_parameters可同时返回可学习的参数及名称。"
      ]
    },
    {
      "metadata": {
        "id": "D_1pu4HnywSs",
        "colab_type": "code",
        "outputId": "009134f1-844e-41bb-8a76-865efeb70f94",
        "colab": {
          "base_uri": "https://localhost:8080/",
          "height": 34
        }
      },
      "cell_type": "code",
      "source": [
        "params=list(net.parameters())\n",
        "print(len(params))"
      ],
      "execution_count": 0,
      "outputs": [
        {
          "output_type": "stream",
          "text": [
            "10\n"
          ],
          "name": "stdout"
        }
      ]
    },
    {
      "metadata": {
        "id": "kNdSXNcky7Gz",
        "colab_type": "code",
        "outputId": "0920e193-8ed5-47f5-a09e-3dbaf0acec21",
        "colab": {
          "base_uri": "https://localhost:8080/",
          "height": 185
        }
      },
      "cell_type": "code",
      "source": [
        "for name,parameters in net.named_parameters():\n",
        "  print(name,':',parameters.size())"
      ],
      "execution_count": 0,
      "outputs": [
        {
          "output_type": "stream",
          "text": [
            "conv1.weight : torch.Size([6, 1, 5, 5])\n",
            "conv1.bias : torch.Size([6])\n",
            "conv2.weight : torch.Size([16, 6, 5, 5])\n",
            "conv2.bias : torch.Size([16])\n",
            "fc1.weight : torch.Size([120, 400])\n",
            "fc1.bias : torch.Size([120])\n",
            "fc2.weight : torch.Size([84, 120])\n",
            "fc2.bias : torch.Size([84])\n",
            "fc3.weight : torch.Size([10, 84])\n",
            "fc3.bias : torch.Size([10])\n"
          ],
          "name": "stdout"
        }
      ]
    },
    {
      "metadata": {
        "id": "XV0pNyUWzbBN",
        "colab_type": "text"
      },
      "cell_type": "markdown",
      "source": [
        "forward 输入和输出都是tensor"
      ]
    },
    {
      "metadata": {
        "id": "zotmZ_z6zroZ",
        "colab_type": "code",
        "outputId": "8210af40-fbcd-4f45-ead9-9299d540f74b",
        "colab": {
          "base_uri": "https://localhost:8080/",
          "height": 34
        }
      },
      "cell_type": "code",
      "source": [
        "input=t.randn(1,1,32,32)\n",
        "input.shape"
      ],
      "execution_count": 0,
      "outputs": [
        {
          "output_type": "execute_result",
          "data": {
            "text/plain": [
              "torch.Size([1, 1, 32, 32])"
            ]
          },
          "metadata": {
            "tags": []
          },
          "execution_count": 100
        }
      ]
    },
    {
      "metadata": {
        "id": "X-1QEXNOzyYE",
        "colab_type": "code",
        "outputId": "134e1fa3-05b4-4f0b-8ebb-a7b45123930c",
        "colab": {
          "base_uri": "https://localhost:8080/",
          "height": 34
        }
      },
      "cell_type": "code",
      "source": [
        "out=net(input)\n",
        "out.size()"
      ],
      "execution_count": 0,
      "outputs": [
        {
          "output_type": "execute_result",
          "data": {
            "text/plain": [
              "torch.Size([1, 10])"
            ]
          },
          "metadata": {
            "tags": []
          },
          "execution_count": 101
        }
      ]
    },
    {
      "metadata": {
        "id": "2HwK9-x1z3Th",
        "colab_type": "text"
      },
      "cell_type": "markdown",
      "source": [
        "所有参数清零\n"
      ]
    },
    {
      "metadata": {
        "id": "EQkusZTz0HRV",
        "colab_type": "code",
        "colab": {}
      },
      "cell_type": "code",
      "source": [
        "net.zero_grad()\n",
        "out.backward(t.ones(1,10)) #反向传播"
      ],
      "execution_count": 0,
      "outputs": []
    },
    {
      "metadata": {
        "id": "ytYtK6P00ROQ",
        "colab_type": "text"
      },
      "cell_type": "markdown",
      "source": [
        "需要注意的是，torch.nn只支持mini-batches，不支持一次只输入一个样本，即一次必须是一个batch。但如果只想输入一个样本，则用 input.unsqueeze(0)将batch_size设为１。例如 nn.Conv2d 输入必须是4维的，形如 𝑛𝑆𝑎𝑚𝑝𝑙𝑒𝑠×𝑛𝐶ℎ𝑎𝑛𝑛𝑒𝑙𝑠×𝐻𝑒𝑖𝑔ℎ𝑡×𝑊𝑖𝑑𝑡ℎ 。可将nSample设为1，即 1×𝑛𝐶ℎ𝑎𝑛𝑛𝑒𝑙𝑠×𝐻𝑒𝑖𝑔ℎ𝑡×𝑊𝑖𝑑𝑡ℎ 。"
      ]
    },
    {
      "metadata": {
        "id": "bRggjQHj0W-k",
        "colab_type": "text"
      },
      "cell_type": "markdown",
      "source": [
        "### 损失函数\n",
        "nn实现了神经网络中大多数的损失函数，例如nn.MSELoss用来计算均方误差，nn.CrossEntropyLoss用来计算交叉熵损失。"
      ]
    },
    {
      "metadata": {
        "id": "ddtWM6g-0uIl",
        "colab_type": "code",
        "outputId": "d7af9239-39ce-41ca-f866-50c8c50f2c2b",
        "colab": {
          "base_uri": "https://localhost:8080/",
          "height": 34
        }
      },
      "cell_type": "code",
      "source": [
        "output=net(input)\n",
        "target=t.arange(0,10,dtype=t.float32).view(1,10)\n",
        "criterion=nn.MSELoss()\n",
        "loss=criterion(output,target)\n",
        "loss"
      ],
      "execution_count": 0,
      "outputs": [
        {
          "output_type": "execute_result",
          "data": {
            "text/plain": [
              "tensor(27.9013, grad_fn=<MseLossBackward>)"
            ]
          },
          "metadata": {
            "tags": []
          },
          "execution_count": 103
        }
      ]
    },
    {
      "metadata": {
        "id": "xAL-y59F1HOk",
        "colab_type": "text"
      },
      "cell_type": "markdown",
      "source": [
        "如果对loss进行反向传播溯源(使用gradfn属性)，可看到它的计算图如下：\n",
        "\n",
        "input -> conv2d -> relu -> maxpool2d -> conv2d -> relu -> maxpool2d  \n",
        "      -> view -> linear -> relu -> linear -> relu -> linear  \n",
        "      -> MSELoss  \n",
        "      -> loss  \n",
        "当调用loss.backward()时，该图会动态生成并自动微分，也即会自动计算图中参数(Parameter)的导数。"
      ]
    },
    {
      "metadata": {
        "id": "j6xqj_u41hEt",
        "colab_type": "code",
        "outputId": "ac330f86-5636-4603-e86c-029cac515e15",
        "colab": {
          "base_uri": "https://localhost:8080/",
          "height": 34
        }
      },
      "cell_type": "code",
      "source": [
        "t.sum(t.pow(output-target,2))/10"
      ],
      "execution_count": 0,
      "outputs": [
        {
          "output_type": "execute_result",
          "data": {
            "text/plain": [
              "tensor(27.9013, grad_fn=<DivBackward0>)"
            ]
          },
          "metadata": {
            "tags": []
          },
          "execution_count": 104
        }
      ]
    },
    {
      "metadata": {
        "id": "-Q6pKBd-14Z7",
        "colab_type": "code",
        "outputId": "2982a64a-d1b0-46d8-de2b-574d073fecf9",
        "colab": {
          "base_uri": "https://localhost:8080/",
          "height": 84
        }
      },
      "cell_type": "code",
      "source": [
        "net.zero_grad()\n",
        "print('反向传播之前，conv1.bia的梯度')\n",
        "print(net.conv1.bias.grad)\n",
        "loss.backward()\n",
        "print('反向传播后，conv1.bias的梯度')\n",
        "print(net.conv1.bias.grad)"
      ],
      "execution_count": 0,
      "outputs": [
        {
          "output_type": "stream",
          "text": [
            "反向传播之前，conv1.bia的梯度\n",
            "tensor([0., 0., 0., 0., 0., 0.])\n",
            "反向传播后，conv1.bias的梯度\n",
            "tensor([-0.0979, -0.1158,  0.0317, -0.0062, -0.2042, -0.1009])\n"
          ],
          "name": "stdout"
        }
      ]
    },
    {
      "metadata": {
        "id": "jvEyCknn2vUy",
        "colab_type": "text"
      },
      "cell_type": "markdown",
      "source": [
        "### 优化器\n",
        "在反向传播计算完所有参数的梯度后，还需要使用优化方法来更新网络的权重和参数，例如随机梯度下降法(SGD)的更新策略如下：\n",
        "\n",
        "weight = weight - learning_rate * gradient\n",
        "\n",
        "手动实现如下：\n",
        "```\n",
        "learning_rate = 0.01\n",
        "for f in net.parameters():\n",
        "    f.data.sub_(f.grad.data * learning_rate)# inplace 减法\n",
        "```\n",
        "torch.optim中实现了深度学习中绝大多数的优化方法，例如RMSProp、Adam、SGD等，更便于使用，因此大多数时候并不需要手动写上述代码。"
      ]
    },
    {
      "metadata": {
        "id": "eeBCyj7g27Ig",
        "colab_type": "code",
        "outputId": "a31f9d8a-312f-4a3a-9321-a785d31a87ef",
        "colab": {
          "base_uri": "https://localhost:8080/",
          "height": 50
        }
      },
      "cell_type": "code",
      "source": [
        "net.conv1.bias.grad.data,net.conv1.bias.grad"
      ],
      "execution_count": 0,
      "outputs": [
        {
          "output_type": "execute_result",
          "data": {
            "text/plain": [
              "(tensor([-0.0979, -0.1158,  0.0317, -0.0062, -0.2042, -0.1009]),\n",
              " tensor([-0.0979, -0.1158,  0.0317, -0.0062, -0.2042, -0.1009]))"
            ]
          },
          "metadata": {
            "tags": []
          },
          "execution_count": 106
        }
      ]
    },
    {
      "metadata": {
        "id": "XzrdsQpU3SIc",
        "colab_type": "code",
        "colab": {}
      },
      "cell_type": "code",
      "source": [
        "from torch import optim\n",
        "\n",
        "optimizer=optim.SGD(net.parameters(),lr=0.01)\n",
        "\n",
        "#训练过程中\n",
        "#先梯度清理与net.zero_grad()效果一样\n",
        "optimizer.zero_grad()\n",
        "\n",
        "#计算损失\n",
        "output=net(input)\n",
        "loss=criterion(output,target)\n",
        "\n",
        "#反向传播\n",
        "loss.backward()\n",
        "\n",
        "#更新参数\n",
        "optimizer.step()"
      ],
      "execution_count": 0,
      "outputs": []
    },
    {
      "metadata": {
        "id": "6kIy3oWH4Rx4",
        "colab_type": "text"
      },
      "cell_type": "markdown",
      "source": [
        "### 数据加载与预处理\n",
        "在深度学习中数据加载及预处理是非常复杂繁琐的，但PyTorch提供了一些可极大简化和加快数据处理流程的工具。同时，对于常用的数据集，PyTorch也提供了封装好的接口供用户快速调用，这些数据集主要保存在torchvison中。\n",
        "\n",
        "torchvision实现了常用的图像数据加载功能，例如Imagenet、CIFAR10、MNIST等，以及常用的数据转换操作，这极大地方便了数据加载，并且代码具有可重用性。\n"
      ]
    },
    {
      "metadata": {
        "id": "FKRy-dEd4adi",
        "colab_type": "text"
      },
      "cell_type": "markdown",
      "source": [
        "## 小试牛刀\n",
        "下面我们来尝试实现对CIFAR-10数据集的分类，步骤如下:\n",
        "\n",
        "* 使用torchvision加载并预处理CIFAR-10数据集\n",
        "* 定义网络\n",
        "* 定义损失函数和优化器\n",
        "* 训练网络并更新网络参数\n",
        "* 测试网络"
      ]
    },
    {
      "metadata": {
        "id": "G3CRA85149CQ",
        "colab_type": "text"
      },
      "cell_type": "markdown",
      "source": [
        "### CIFAR-10数据加载和预处理\n",
        "\n",
        "CIFAR-10是一个常用的彩色图片数据集，它有10个类别: 'airplane', 'automobile', 'bird', 'cat', 'deer', 'dog', 'frog', 'horse', 'ship', 'truck'。每张图片都是 3×32×32 ，也即3-通道彩色图片，分辨率为 32×32 。"
      ]
    },
    {
      "metadata": {
        "id": "79KqMQ9P5H_s",
        "colab_type": "code",
        "colab": {}
      },
      "cell_type": "code",
      "source": [
        "import torchvision as tv\n",
        "import torchvision.transforms as transforms\n",
        "from torchvision.transforms import ToPILImage\n",
        "show=ToPILImage() #可以把Tensor转成Image，方便可视化"
      ],
      "execution_count": 0,
      "outputs": []
    },
    {
      "metadata": {
        "id": "i2_uPg-E5xLM",
        "colab_type": "code",
        "outputId": "7f2510d6-5bf4-4713-ce8e-4d5d043f172d",
        "colab": {
          "base_uri": "https://localhost:8080/",
          "height": 50
        }
      },
      "cell_type": "code",
      "source": [
        "# 定义对数据的预处理\n",
        "transform=transforms.Compose([transforms.ToTensor(),#转化为tensor\n",
        "                              transforms.Normalize((0.5,0.5,0.5),(0.5,0.5,0.5))]) #归一化，均值和方差\n",
        "\n",
        "#训练集\n",
        "trainset=tv.datasets.CIFAR10(root='/home/cy/tmp/data',\n",
        "                            train=True,\n",
        "                            download=True,\n",
        "                            transform=transform)\n",
        "\n",
        "trainloader=t.utils.data.DataLoader(trainset,batch_size=4,shuffle=True)\n",
        "\n",
        "#测试集\n",
        "testset=tv.datasets.CIFAR10(root='/home/cy/tmp/data',\n",
        "                           train=False,\n",
        "                           download=True,\n",
        "                           transform=transform)\n",
        "testloader=t.utils.data.DataLoader(testset,batch_size=4,shuffle=False)\n",
        "\n",
        "\n",
        "#类\n",
        "classes=('plane', 'car', 'bird', 'cat',\n",
        "           'deer', 'dog', 'frog', 'horse', 'ship', 'truck')"
      ],
      "execution_count": 0,
      "outputs": [
        {
          "output_type": "stream",
          "text": [
            "Files already downloaded and verified\n",
            "Files already downloaded and verified\n"
          ],
          "name": "stdout"
        }
      ]
    },
    {
      "metadata": {
        "id": "M2UurbFi7hJE",
        "colab_type": "code",
        "outputId": "b0ea88f4-3b81-4d5c-c14a-8ef1956d6b51",
        "colab": {
          "base_uri": "https://localhost:8080/",
          "height": 50
        }
      },
      "cell_type": "code",
      "source": [
        "!cd /home/cy/tmp/data\n",
        "!ls\n",
        "!cd ./sample_data\n",
        "!ls -a"
      ],
      "execution_count": 0,
      "outputs": [
        {
          "output_type": "stream",
          "text": [
            "sample_data\n",
            ".  ..  .config\tsample_data\n"
          ],
          "name": "stdout"
        }
      ]
    },
    {
      "metadata": {
        "id": "L1y5lZuYP8tm",
        "colab_type": "text"
      },
      "cell_type": "markdown",
      "source": [
        "Dataset对象是一个数据集，可以按照下标访问，返回形如（data,label）的数据"
      ]
    },
    {
      "metadata": {
        "id": "K0KPz3JrQ2Gw",
        "colab_type": "code",
        "outputId": "e0a3ae34-5c80-4c0c-9034-39808be92be7",
        "colab": {
          "base_uri": "https://localhost:8080/",
          "height": 134
        }
      },
      "cell_type": "code",
      "source": [
        "data,label=trainset[100]\n",
        "print(classes[label])\n",
        "\n",
        "#（data+1）/2 是为了还原被归一化的数据,归一化时：（x-0.5）/0.5=x 则原来x=(x+1)/2\n",
        "show((data+1)/2).resize((100,100))"
      ],
      "execution_count": 0,
      "outputs": [
        {
          "output_type": "stream",
          "text": [
            "ship\n"
          ],
          "name": "stdout"
        },
        {
          "output_type": "execute_result",
          "data": {
            "image/png": "[encoded data removed]",
            "text/plain": [
              "<PIL.Image.Image image mode=RGB size=100x100 at 0x7F54DFAD4080>"
            ]
          },
          "metadata": {
            "tags": []
          },
          "execution_count": 114
        }
      ]
    },
    {
      "metadata": {
        "id": "7Pnv2G6uRTiX",
        "colab_type": "text"
      },
      "cell_type": "markdown",
      "source": [
        "Dataloader是一个可迭代的对象，但不是生成器，即能使用for访问，但不能使用next()访问。它将dataset返回的每一条数据拼接成一个batch，并提供多线程加速优化和数据打乱等操作。当程序对dataset的所有数据遍历完一遍之后，相应的对Dataloader也完成了一次迭代。"
      ]
    },
    {
      "metadata": {
        "id": "GBmzMZjSRhDF",
        "colab_type": "code",
        "outputId": "c9a9593f-6956-41aa-eb71-c0d5e22b6050",
        "colab": {
          "base_uri": "https://localhost:8080/",
          "height": 34
        }
      },
      "cell_type": "code",
      "source": [
        "from collections import Iterable\n",
        "from types import GeneratorType\n",
        "isinstance(trainloader,Iterable),isinstance(trainloader,GeneratorType)"
      ],
      "execution_count": 0,
      "outputs": [
        {
          "output_type": "execute_result",
          "data": {
            "text/plain": [
              "(True, False)"
            ]
          },
          "metadata": {
            "tags": []
          },
          "execution_count": 126
        }
      ]
    },
    {
      "metadata": {
        "id": "h2nDeY46Se09",
        "colab_type": "code",
        "outputId": "da25ce44-86a8-4705-f384-7739cc185c91",
        "colab": {
          "base_uri": "https://localhost:8080/",
          "height": 134
        }
      },
      "cell_type": "code",
      "source": [
        "dataiter=iter(trainloader)\n",
        "images,labels=dataiter.next()\n",
        "print(' '.join('%11s' % classes[labels[j]] for j in range(4)))\n",
        "show(tv.utils.make_grid((images+1)/2)).resize((400,100))"
      ],
      "execution_count": 0,
      "outputs": [
        {
          "output_type": "stream",
          "text": [
            "      horse        ship        deer         dog\n"
          ],
          "name": "stdout"
        },
        {
          "output_type": "execute_result",
          "data": {
            "image/png": "[encoded data removed]",
            "text/plain": [
              "<PIL.Image.Image image mode=RGB size=400x100 at 0x7F54DCBFE780>"
            ]
          },
          "metadata": {
            "tags": []
          },
          "execution_count": 119
        }
      ]
    },
    {
      "metadata": {
        "id": "sXJj65P_TY5j",
        "colab_type": "text"
      },
      "cell_type": "markdown",
      "source": [
        "### 定义网络\n",
        "拷贝上面的LeNet网络，修改self.conv1第一个参数为3通道，因CIFAR-10是3通道彩图。"
      ]
    },
    {
      "metadata": {
        "id": "G3N3DUyxUXDM",
        "colab_type": "code",
        "colab": {}
      },
      "cell_type": "code",
      "source": [
        "import torch.nn as nn\n",
        "import torch.nn.functional as F\n",
        "\n",
        "class LeNet(nn.Module):\n",
        "  def __init__(self):\n",
        "    super(LeNet,self).__init__()\n",
        "    \n",
        "    #卷积层1 ‘1’代表输入图像为单通道，‘6’代表输出通道数，‘5’代表卷积核为5*5\n",
        "    self.conv1=nn.Conv2d(in_channels=3,out_channels=6,kernel_size=5)\n",
        "    #卷积层2\n",
        "    self.conv2=nn.Conv2d(6,16,5)\n",
        "    #仿射函层，全连接层，y=Wx+b\n",
        "    #第一个参数为输入节点个数，第二个为输出个数\n",
        "    self.fc1=nn.Linear(in_features=16*5*5,out_features=120)\n",
        "    self.fc2=nn.Linear(120,84)\n",
        "    self.fc3=nn.Linear(84,10)\n",
        "    \n",
        "  def forward(self,X):\n",
        "    X=F.max_pool2d(F.relu(self.conv1(X)),(2,2))\n",
        "    X=F.max_pool2d(F.relu(self.conv2(X)),2)\n",
        "    #reshape\n",
        "    X=X.view(X.size()[0],-1)\n",
        "    X=F.relu(self.fc1(X))\n",
        "    X=F.relu(self.fc2(X))\n",
        "    X=self.fc3(X)\n",
        "    return X   "
      ],
      "execution_count": 0,
      "outputs": []
    },
    {
      "metadata": {
        "id": "KHXkAlJFUocm",
        "colab_type": "code",
        "outputId": "9fdfa8e3-3a0b-44e4-8502-461d874b1346",
        "colab": {
          "base_uri": "https://localhost:8080/",
          "height": 134
        }
      },
      "cell_type": "code",
      "source": [
        "net=LeNet()\n",
        "print(net)"
      ],
      "execution_count": 0,
      "outputs": [
        {
          "output_type": "stream",
          "text": [
            "LeNet(\n",
            "  (conv1): Conv2d(3, 6, kernel_size=(5, 5), stride=(1, 1))\n",
            "  (conv2): Conv2d(6, 16, kernel_size=(5, 5), stride=(1, 1))\n",
            "  (fc1): Linear(in_features=400, out_features=120, bias=True)\n",
            "  (fc2): Linear(in_features=120, out_features=84, bias=True)\n",
            "  (fc3): Linear(in_features=84, out_features=10, bias=True)\n",
            ")\n"
          ],
          "name": "stdout"
        }
      ]
    },
    {
      "metadata": {
        "id": "71SxHiI8Ur8M",
        "colab_type": "text"
      },
      "cell_type": "markdown",
      "source": [
        "### 定义损失函数和优化器"
      ]
    },
    {
      "metadata": {
        "id": "ErD9VeoEU0Yu",
        "colab_type": "code",
        "colab": {}
      },
      "cell_type": "code",
      "source": [
        "from torch import optim\n",
        "loss=nn.CrossEntropyLoss()\n",
        "optimizer=optim.SGD(net.parameters(),lr=0.001,momentum=0.9)"
      ],
      "execution_count": 0,
      "outputs": []
    },
    {
      "metadata": {
        "id": "t7a-NfSXVH7_",
        "colab_type": "text"
      },
      "cell_type": "markdown",
      "source": [
        "## 训练网络\n",
        "所有网络的训练流程都是类似的，不断地执行如下流程：\n",
        "\n",
        "* 输入数据\n",
        "* 前向传播+反向传播\n",
        "* 更新参数"
      ]
    },
    {
      "metadata": {
        "id": "XthMo5hVVOwp",
        "colab_type": "code",
        "outputId": "f0c92f0a-7e03-4430-beae-9390a24de2bc",
        "colab": {
          "base_uri": "https://localhost:8080/",
          "height": 252
        }
      },
      "cell_type": "code",
      "source": [
        "t.set_num_threads(8)\n",
        "for epoch in range(2):\n",
        "  running_loss=0\n",
        "  for i,data in enumerate(trainloader,0):\n",
        "    \n",
        "    #输入数据\n",
        "    inputs,labels=data\n",
        "    \n",
        "    #梯度清零\n",
        "    optimizer.zero_grad()\n",
        "    \n",
        "    #foraward+backward\n",
        "    outputs=net(inputs)\n",
        "    ls=loss(outputs,labels)\n",
        "    ls.backward()\n",
        "    \n",
        "    #更新参数\n",
        "    optimizer.step()\n",
        "    \n",
        "    #打印log\n",
        "    #ls是一个scalar,需要使用ls.item()来获取数值，不能使用ls[0]\n",
        "    running_loss+=ls.item()\n",
        "    if i %2000 ==1999: #每2000个batch打印一下训练状态\n",
        "      print('[%d,%5d] loss: %.3f' % (epoch+1,i+1,running_loss/2000))\n",
        "      running_loss=0\n",
        "      \n",
        "print('Finished Training')\n",
        "  "
      ],
      "execution_count": 0,
      "outputs": [
        {
          "output_type": "stream",
          "text": [
            "[1, 2000] loss: 1.674\n",
            "[1, 4000] loss: 1.583\n",
            "[1, 6000] loss: 1.549\n",
            "[1, 8000] loss: 1.490\n",
            "[1,10000] loss: 1.443\n",
            "[1,12000] loss: 1.411\n",
            "Finished Training\n",
            "[2, 2000] loss: 1.333\n",
            "[2, 4000] loss: 1.332\n",
            "[2, 6000] loss: 1.297\n",
            "[2, 8000] loss: 1.278\n",
            "[2,10000] loss: 1.254\n",
            "[2,12000] loss: 1.236\n",
            "Finished Training\n"
          ],
          "name": "stdout"
        }
      ]
    },
    {
      "metadata": {
        "id": "tRlJbb3oW6E6",
        "colab_type": "text"
      },
      "cell_type": "markdown",
      "source": [
        "此处仅训练了2个epoch（遍历完一遍数据集称为一个epoch），来看看网络有没有效果。将测试图片输入到网络中，计算它的label，然后与实际的label进行比较。"
      ]
    },
    {
      "metadata": {
        "id": "MU2k4G0lX3uX",
        "colab_type": "code",
        "outputId": "51a14ecc-aac2-4e8a-f96f-43d7abaa5c7a",
        "colab": {
          "base_uri": "https://localhost:8080/",
          "height": 134
        }
      },
      "cell_type": "code",
      "source": [
        "dataiter=iter(testloader)\n",
        "images,labels=dataiter.next()\n",
        "print('实际的label:',' '.join('%08s' % classes[labels[j]] for j in range(4)))\n",
        "\n",
        "show(tv.utils.make_grid(images/2-0.5)).resize((400,100))"
      ],
      "execution_count": 0,
      "outputs": [
        {
          "output_type": "stream",
          "text": [
            "实际的label:      cat     ship     ship    plane\n"
          ],
          "name": "stdout"
        },
        {
          "output_type": "execute_result",
          "data": {
            "image/png": "[encoded data removed]",
            "text/plain": [
              "<PIL.Image.Image image mode=RGB size=400x100 at 0x7F54DCC1E940>"
            ]
          },
          "metadata": {
            "tags": []
          },
          "execution_count": 147
        }
      ]
    },
    {
      "metadata": {
        "id": "_tfYqC-RY9xM",
        "colab_type": "text"
      },
      "cell_type": "markdown",
      "source": [
        "接着计算网络预测的label："
      ]
    },
    {
      "metadata": {
        "id": "fT8WaBTSZLNl",
        "colab_type": "code",
        "outputId": "e8760810-9741-47ee-ca9e-9484d15fd019",
        "colab": {
          "base_uri": "https://localhost:8080/",
          "height": 34
        }
      },
      "cell_type": "code",
      "source": [
        "outpus=net(images)\n",
        "_,predicted=t.max(outputs,1)\n",
        "\n",
        "print('预测结果：',' '.join('%05s' % classes[predicted[j]] for j in range(4)))"
      ],
      "execution_count": 0,
      "outputs": [
        {
          "output_type": "stream",
          "text": [
            "预测结果：   car  deer truck   cat\n"
          ],
          "name": "stdout"
        }
      ]
    },
    {
      "metadata": {
        "id": "ioGicIjcZiQP",
        "colab_type": "text"
      },
      "cell_type": "markdown",
      "source": [
        "已经可以看出效果，准确率50%，但这只是一部分的图片，再来看看在整个测试集上的效果。"
      ]
    },
    {
      "metadata": {
        "id": "WpU7k1KzZm3e",
        "colab_type": "code",
        "outputId": "fd35a531-0d34-4298-ac88-be68d9e1adbc",
        "colab": {
          "base_uri": "https://localhost:8080/",
          "height": 34
        }
      },
      "cell_type": "code",
      "source": [
        "correct=0\n",
        "total=0\n",
        "\n",
        "with t.no_grad():\n",
        "  for data in testloader:\n",
        "    images,labels=data\n",
        "    outputs=net(images)\n",
        "    _,predicted=t.max(outputs,1)\n",
        "    total+=labels.size(0)\n",
        "    correct+=(predicted==labels).sum()\n",
        "    \n",
        "print('10000张测试集中的准确率为： %d %%' % (100*correct/total))"
      ],
      "execution_count": 0,
      "outputs": [
        {
          "output_type": "stream",
          "text": [
            "10000张测试集中的准确率为： 56 %\n"
          ],
          "name": "stdout"
        }
      ]
    },
    {
      "metadata": {
        "id": "DjLgkW8DbXR5",
        "colab_type": "text"
      },
      "cell_type": "markdown",
      "source": [
        "训练的准确率远比随机猜测(准确率10%)好，证明网络确实学到了东西。"
      ]
    },
    {
      "metadata": {
        "id": "csef_qGXbh3n",
        "colab_type": "text"
      },
      "cell_type": "markdown",
      "source": [
        "### 在GPU上训练\n",
        "就像之前把Tensor从CPU转到GPU一样，模型也可以类似地从CPU转到GPU。"
      ]
    },
    {
      "metadata": {
        "id": "jrh2llOEbmq7",
        "colab_type": "code",
        "outputId": "b6bc4d14-c24e-473e-edb6-fdef7fd0b1aa",
        "colab": {
          "base_uri": "https://localhost:8080/",
          "height": 34
        }
      },
      "cell_type": "code",
      "source": [
        "device = t.device('cuda:0' if t.cuda.is_available() else 'cpu')\n",
        "\n",
        "net.to(device)\n",
        "images=images.to(device)\n",
        "\n",
        "labels=labels.to(device)\n",
        "output=net(images)\n",
        "ls=loss(output,labels)\n",
        "\n",
        "ls"
      ],
      "execution_count": 0,
      "outputs": [
        {
          "output_type": "execute_result",
          "data": {
            "text/plain": [
              "tensor(1.4004, device='cuda:0', grad_fn=<NllLossBackward>)"
            ]
          },
          "metadata": {
            "tags": []
          },
          "execution_count": 150
        }
      ]
    },
    {
      "metadata": {
        "id": "jhTDDO_DcFnu",
        "colab_type": "text"
      },
      "cell_type": "markdown",
      "source": [
        "## 总结\n",
        "\n",
        "* Tensor: 类似Numpy数组的数据结构，与Numpy接口类似，可方便地互相转换。\n",
        "* autograd/: 为tensor提供自动求导功能。\n",
        "* nn: 专门为神经网络设计的接口，提供了很多有用的功能(神经网络层，损失函数，优化器等)。\n",
        "* 神经网络训练: 以CIFAR-10分类为例演示了神经网络的训练流程，包括数据加载、网络搭建、训练及测试。"
      ]
    },
    {
      "metadata": {
        "id": "qA9tBRiAdSQl",
        "colab_type": "code",
        "colab": {}
      },
      "cell_type": "code",
      "source": [
        ""
      ],
      "execution_count": 0,
      "outputs": []
    }
  ]
}