{
  "nbformat": 4,
  "nbformat_minor": 0,
  "metadata": {
    "colab": {
      "name": "chapter2_1_Tensor.ipynb",
      "version": "0.3.2",
      "provenance": [],
      "collapsed_sections": []
    },
    "kernelspec": {
      "name": "python3",
      "display_name": "Python 3"
    },
    "accelerator": "GPU"
  },
  "cells": [
    {
      "metadata": {
        "id": "z490BuQjj8re",
        "colab_type": "text"
      },
      "cell_type": "markdown",
      "source": [
        "# 第三章 pytorch基础：Tensor和Autograd\n",
        "\n"
      ]
    },
    {
      "metadata": {
        "id": "pLgKL9pRlzl1",
        "colab_type": "text"
      },
      "cell_type": "markdown",
      "source": [
        "## Tensor\n",
        "\n",
        "Tensor，又名张量，读者可能对这个名词似曾相识，因它不仅在PyTorch中出现过，它也是Theano、TensorFlow、 Torch和MxNet中重要的数据结构。关于张量的本质不乏深度的剖析，但从工程角度来讲，可简单地认为它就是一个数组，且支持高效的科学计算。它可以是一个数（标量）、一维数组（向量）、二维数组（矩阵）和更高维的数组（高阶数据）。Tensor和Numpy的ndarrays类似，但PyTorch的tensor支持GPU加速。\n",
        "\n",
        "本节将系统讲解tensor的使用，力求面面俱到，但不会涉及每个函数。对于更多函数及其用法，读者可通过在IPython/Notebook中使用函数名加?查看帮助文档，或查阅PyTorch官方文档。"
      ]
    },
    {
      "metadata": {
        "id": "gm72EakjlNHX",
        "colab_type": "code",
        "outputId": "33c8c420-2e8d-49c6-e558-19791cde409b",
        "colab": {
          "base_uri": "https://localhost:8080/",
          "height": 34
        }
      },
      "cell_type": "code",
      "source": [
        "from __future__ import print_function\n",
        "import torch as t\n",
        "t.__version__"
      ],
      "execution_count": 1,
      "outputs": [
        {
          "output_type": "execute_result",
          "data": {
            "text/plain": [
              "'1.0.1.post2'"
            ]
          },
          "metadata": {
            "tags": []
          },
          "execution_count": 1
        }
      ]
    },
    {
      "metadata": {
        "id": "JgkgH6HCliRn",
        "colab_type": "text"
      },
      "cell_type": "markdown",
      "source": [
        "###  基本操作\n",
        "\n",
        "学习过Numpy的读者会对本节内容感到非常熟悉，因tensor的接口有意设计成与Numpy类似，以方便用户使用。但不熟悉Numpy也没关系，本节内容并不要求先掌握Numpy。\n",
        "\n",
        "从接口的角度来讲，对tensor的操作可分为两类：\n",
        "\n",
        "* torch.function，如torch.save等。\n",
        "* 另一类是tensor.function，如tensor.view等。\n",
        "\n",
        "为方便使用，对tensor的大部分操作同时支持这两类接口，在本书中不做具体区分，如torch.sum (torch.sum(a, b))与tensor.sum (a.sum(b))功能等价。\n",
        "\n",
        "而从存储的角度来讲，对tensor的操作又可分为两类：\n",
        "\n",
        "* 不会修改自身的数据，如 a.add(b)， 加法的结果会返回一个新的tensor。\n",
        "* 会修改自身的数据，如 a.add_(b)， 加法的结果仍存储在a中，a被修改了。\n",
        "\n",
        "函数名以_结尾的都是inplace方式, 即会修改调用者自己的数据，在实际应用中需加以区分。"
      ]
    },
    {
      "metadata": {
        "id": "MFPzBmKTmCuh",
        "colab_type": "text"
      },
      "cell_type": "markdown",
      "source": [
        "#### 创建Tensor\n",
        "在PyTorch中新建tensor的方法有很多，具体如表3-1所示。\n",
        "\n",
        "表3-1: 常见新建tensor的方法\n",
        "\n",
        "\n",
        "|函数|功能|\n",
        "|:---:|:---:|\n",
        "|Tensor(\\*sizes)|基础构造函数|\n",
        "|tensor(data,)|类似np.array的构造函数|\n",
        "|ones(\\*sizes)|全1Tensor|\n",
        "|zeros(\\*sizes)|全0Tensor|\n",
        "|eye(\\*sizes)|对角线为1，其他为0|\n",
        "|arange(s,e,step)|从s到e，步长为step|\n",
        "|linspace(s,e,steps)|从s到e，均匀切分成steps份|\n",
        "|rand/randn(\\*sizes)|均匀/标准分布|\n",
        "|normal(mean,std)/uniform(from,to)|正态分布/均匀分布|\n",
        "|randperm(m)|随机排列|\n",
        "\n",
        "\n",
        "这些创建方法都可以在创建的时候指定数据类型dtype和存放device(cpu/gpu).\n",
        "\n",
        "\n",
        "其中使用`Tensor`函数新建tensor是最复杂多变的方式，它既可以接收一个list，并根据list的数据新建tensor，也能根据指定的形状新建tensor，还能传入其他的tensor，下面举几个例子。"
      ]
    },
    {
      "metadata": {
        "id": "1fwE1R-0mwEL",
        "colab_type": "code",
        "outputId": "52c64cd4-c87d-492c-c0ec-4fd44b80848b",
        "colab": {
          "base_uri": "https://localhost:8080/",
          "height": 50
        }
      },
      "cell_type": "code",
      "source": [
        "# 指定tensor的形状\n",
        "a=t.Tensor(2,3)\n",
        "a#数值取决于内存中的状态"
      ],
      "execution_count": 2,
      "outputs": [
        {
          "output_type": "execute_result",
          "data": {
            "text/plain": [
              "tensor([[2.3496e-36, 0.0000e+00, 8.4078e-45],\n",
              "        [0.0000e+00,        nan, 9.0152e-07]])"
            ]
          },
          "metadata": {
            "tags": []
          },
          "execution_count": 2
        }
      ]
    },
    {
      "metadata": {
        "id": "wZTNE0r5nVgB",
        "colab_type": "code",
        "outputId": "396a54d7-c1a4-40c1-cfa3-973d8bf818d6",
        "colab": {
          "base_uri": "https://localhost:8080/",
          "height": 50
        }
      },
      "cell_type": "code",
      "source": [
        "# 用list创建\n",
        "b=t.Tensor([[1,2,3],[4,5,6]])\n",
        "b"
      ],
      "execution_count": 3,
      "outputs": [
        {
          "output_type": "execute_result",
          "data": {
            "text/plain": [
              "tensor([[1., 2., 3.],\n",
              "        [4., 5., 6.]])"
            ]
          },
          "metadata": {
            "tags": []
          },
          "execution_count": 3
        }
      ]
    },
    {
      "metadata": {
        "id": "vv6uVivOnn7A",
        "colab_type": "code",
        "outputId": "2b0d6770-1520-4a18-f9e7-be961242f09d",
        "colab": {
          "base_uri": "https://localhost:8080/",
          "height": 34
        }
      },
      "cell_type": "code",
      "source": [
        "b.tolist() #将tensor转换成list"
      ],
      "execution_count": 4,
      "outputs": [
        {
          "output_type": "execute_result",
          "data": {
            "text/plain": [
              "[[1.0, 2.0, 3.0], [4.0, 5.0, 6.0]]"
            ]
          },
          "metadata": {
            "tags": []
          },
          "execution_count": 4
        }
      ]
    },
    {
      "metadata": {
        "id": "g3EbDtWrnupG",
        "colab_type": "code",
        "outputId": "37fff5d9-7e32-40c6-e533-1edf6d463bc9",
        "colab": {
          "base_uri": "https://localhost:8080/",
          "height": 50
        }
      },
      "cell_type": "code",
      "source": [
        "b_size=b.size() #获取形状\n",
        "print(b_size)\n",
        "b_size=b.shape\n",
        "print(b_size)"
      ],
      "execution_count": 5,
      "outputs": [
        {
          "output_type": "stream",
          "text": [
            "torch.Size([2, 3])\n",
            "torch.Size([2, 3])\n"
          ],
          "name": "stdout"
        }
      ]
    },
    {
      "metadata": {
        "id": "Nj7KKDeYn1W9",
        "colab_type": "code",
        "outputId": "f245dee9-ec2b-43f6-90e9-00c2013696ad",
        "colab": {
          "base_uri": "https://localhost:8080/",
          "height": 34
        }
      },
      "cell_type": "code",
      "source": [
        "b.numel() #b中含有元素的总数，等价于b.nelement()"
      ],
      "execution_count": 6,
      "outputs": [
        {
          "output_type": "execute_result",
          "data": {
            "text/plain": [
              "6"
            ]
          },
          "metadata": {
            "tags": []
          },
          "execution_count": 6
        }
      ]
    },
    {
      "metadata": {
        "id": "Rl2jeZEZoLyQ",
        "colab_type": "code",
        "outputId": "a1a9c23b-398d-42ec-d601-3b035eadecbf",
        "colab": {
          "base_uri": "https://localhost:8080/",
          "height": 50
        }
      },
      "cell_type": "code",
      "source": [
        "#创建一个和b形状一样的tensor\n",
        "c=t.Tensor(b_size)\n",
        "\n",
        "#创建一个元素为2和3的tensor\n",
        "d=t.Tensor((2,3))\n",
        "c,d"
      ],
      "execution_count": 7,
      "outputs": [
        {
          "output_type": "execute_result",
          "data": {
            "text/plain": [
              "(tensor([[2.3498e-36, 0.0000e+00, 0.0000e+00],\n",
              "         [0.0000e+00,        nan, 0.0000e+00]]), tensor([2., 3.]))"
            ]
          },
          "metadata": {
            "tags": []
          },
          "execution_count": 7
        }
      ]
    },
    {
      "metadata": {
        "id": "bL6ndXWMoWC5",
        "colab_type": "text"
      },
      "cell_type": "markdown",
      "source": [
        "需要注意的是，t.Tensor(*sizes)创建tensor时，系统不会马上分配空间，只是会计算剩余的内存是否足够使用，使用到tensor时才会分配，而其它操作都是在创建完tensor之后马上进行空间分配。其它常用的创建tensor的方法举例如下。"
      ]
    },
    {
      "metadata": {
        "id": "LoTPMtNXo1cs",
        "colab_type": "code",
        "outputId": "65abd601-df3f-4792-e770-27797cec2865",
        "colab": {
          "base_uri": "https://localhost:8080/",
          "height": 50
        }
      },
      "cell_type": "code",
      "source": [
        "t.ones(2,3)"
      ],
      "execution_count": 8,
      "outputs": [
        {
          "output_type": "execute_result",
          "data": {
            "text/plain": [
              "tensor([[1., 1., 1.],\n",
              "        [1., 1., 1.]])"
            ]
          },
          "metadata": {
            "tags": []
          },
          "execution_count": 8
        }
      ]
    },
    {
      "metadata": {
        "id": "oKbqqXvYo8r-",
        "colab_type": "code",
        "outputId": "61882fc8-ebf1-4bdc-8d6e-a9fcc3671e72",
        "colab": {
          "base_uri": "https://localhost:8080/",
          "height": 50
        }
      },
      "cell_type": "code",
      "source": [
        "t.zeros(2,3)"
      ],
      "execution_count": 9,
      "outputs": [
        {
          "output_type": "execute_result",
          "data": {
            "text/plain": [
              "tensor([[0., 0., 0.],\n",
              "        [0., 0., 0.]])"
            ]
          },
          "metadata": {
            "tags": []
          },
          "execution_count": 9
        }
      ]
    },
    {
      "metadata": {
        "id": "5USz8ohZo_5P",
        "colab_type": "code",
        "outputId": "e5eab9aa-1192-4a29-91e2-53b1bd947763",
        "colab": {
          "base_uri": "https://localhost:8080/",
          "height": 34
        }
      },
      "cell_type": "code",
      "source": [
        "t.arange(1,6,2)"
      ],
      "execution_count": 10,
      "outputs": [
        {
          "output_type": "execute_result",
          "data": {
            "text/plain": [
              "tensor([1, 3, 5])"
            ]
          },
          "metadata": {
            "tags": []
          },
          "execution_count": 10
        }
      ]
    },
    {
      "metadata": {
        "id": "NgU2gwAgpCWi",
        "colab_type": "code",
        "outputId": "f06ad92d-0ab9-48cd-e8e5-649bc0438037",
        "colab": {
          "base_uri": "https://localhost:8080/",
          "height": 34
        }
      },
      "cell_type": "code",
      "source": [
        "t.linspace(1,10,3)"
      ],
      "execution_count": 11,
      "outputs": [
        {
          "output_type": "execute_result",
          "data": {
            "text/plain": [
              "tensor([ 1.0000,  5.5000, 10.0000])"
            ]
          },
          "metadata": {
            "tags": []
          },
          "execution_count": 11
        }
      ]
    },
    {
      "metadata": {
        "id": "-m4AYDZTpJH8",
        "colab_type": "code",
        "outputId": "2b0b0804-2ea1-45f5-c4ce-4fbd07c06f4c",
        "colab": {
          "base_uri": "https://localhost:8080/",
          "height": 50
        }
      },
      "cell_type": "code",
      "source": [
        "t.randn(2,3,device=t.device('cpu'))"
      ],
      "execution_count": 12,
      "outputs": [
        {
          "output_type": "execute_result",
          "data": {
            "text/plain": [
              "tensor([[ 8.4626e-01, -6.8828e-01,  1.0889e+00],\n",
              "        [-7.6447e-01,  6.6962e-04,  1.1155e+00]])"
            ]
          },
          "metadata": {
            "tags": []
          },
          "execution_count": 12
        }
      ]
    },
    {
      "metadata": {
        "id": "ZF2dk_TUpUD3",
        "colab_type": "code",
        "outputId": "1983c5cd-d1c8-40d7-ad58-a14257cbf77c",
        "colab": {
          "base_uri": "https://localhost:8080/",
          "height": 34
        }
      },
      "cell_type": "code",
      "source": [
        "t.randperm(5) #是长度为5的随机排列"
      ],
      "execution_count": 13,
      "outputs": [
        {
          "output_type": "execute_result",
          "data": {
            "text/plain": [
              "tensor([0, 4, 1, 2, 3])"
            ]
          },
          "metadata": {
            "tags": []
          },
          "execution_count": 13
        }
      ]
    },
    {
      "metadata": {
        "id": "-8VHZ1ZopaiF",
        "colab_type": "code",
        "outputId": "0fb401d1-bf3d-4046-fade-4fd3b464955a",
        "colab": {
          "base_uri": "https://localhost:8080/",
          "height": 50
        }
      },
      "cell_type": "code",
      "source": [
        "t.eye(2,3,dtype=t.int)"
      ],
      "execution_count": 14,
      "outputs": [
        {
          "output_type": "execute_result",
          "data": {
            "text/plain": [
              "tensor([[1, 0, 0],\n",
              "        [0, 1, 0]], dtype=torch.int32)"
            ]
          },
          "metadata": {
            "tags": []
          },
          "execution_count": 14
        }
      ]
    },
    {
      "metadata": {
        "id": "aToDZ81FpfLb",
        "colab_type": "text"
      },
      "cell_type": "markdown",
      "source": [
        "torch.tensor是在0.4版本新增加的一个新版本的创建tensor方法，使用的方法，和参数几乎和np.array完全一致"
      ]
    },
    {
      "metadata": {
        "id": "HgL8WJ66ps35",
        "colab_type": "code",
        "outputId": "1add891d-410b-4820-fe5c-e2c4c54be691",
        "colab": {
          "base_uri": "https://localhost:8080/",
          "height": 34
        }
      },
      "cell_type": "code",
      "source": [
        "scalar=t.tensor(3.14)\n",
        "print('scalar: %s,shape of scalar: %s' % (scalar,scalar.shape))"
      ],
      "execution_count": 15,
      "outputs": [
        {
          "output_type": "stream",
          "text": [
            "scalar: tensor(3.1400),shape of scalar: torch.Size([])\n"
          ],
          "name": "stdout"
        }
      ]
    },
    {
      "metadata": {
        "id": "iCgpwjV0p8i7",
        "colab_type": "code",
        "outputId": "02958cad-171b-49bf-9686-7be85b157e3c",
        "colab": {
          "base_uri": "https://localhost:8080/",
          "height": 34
        }
      },
      "cell_type": "code",
      "source": [
        "vector=t.tensor([1,2])\n",
        "vector,vector.shape"
      ],
      "execution_count": 16,
      "outputs": [
        {
          "output_type": "execute_result",
          "data": {
            "text/plain": [
              "(tensor([1, 2]), torch.Size([2]))"
            ]
          },
          "metadata": {
            "tags": []
          },
          "execution_count": 16
        }
      ]
    },
    {
      "metadata": {
        "id": "fpBbDxjJqGc8",
        "colab_type": "code",
        "outputId": "10081427-a53a-42a0-f987-5eb3889e874a",
        "colab": {
          "base_uri": "https://localhost:8080/",
          "height": 34
        }
      },
      "cell_type": "code",
      "source": [
        "tensor=t.Tensor(1,2) #与t.tensor([1,2])的区别\n",
        "tensor.shape"
      ],
      "execution_count": 17,
      "outputs": [
        {
          "output_type": "execute_result",
          "data": {
            "text/plain": [
              "torch.Size([1, 2])"
            ]
          },
          "metadata": {
            "tags": []
          },
          "execution_count": 17
        }
      ]
    },
    {
      "metadata": {
        "id": "_XzyPpt9qd8S",
        "colab_type": "code",
        "outputId": "0478ad31-baab-47e4-ba0c-a4dc98b2a9aa",
        "colab": {
          "base_uri": "https://localhost:8080/",
          "height": 67
        }
      },
      "cell_type": "code",
      "source": [
        "matrix=t.tensor([[0.1,1.2],[2.2,3.1],[4.9,5.2]])\n",
        "matrix,matrix.shape"
      ],
      "execution_count": 18,
      "outputs": [
        {
          "output_type": "execute_result",
          "data": {
            "text/plain": [
              "(tensor([[0.1000, 1.2000],\n",
              "         [2.2000, 3.1000],\n",
              "         [4.9000, 5.2000]]), torch.Size([3, 2]))"
            ]
          },
          "metadata": {
            "tags": []
          },
          "execution_count": 18
        }
      ]
    },
    {
      "metadata": {
        "id": "b3NUsI1Xqyou",
        "colab_type": "code",
        "outputId": "965e9cbe-200c-46ba-f48d-6b5b7d5f35ad",
        "colab": {
          "base_uri": "https://localhost:8080/",
          "height": 34
        }
      },
      "cell_type": "code",
      "source": [
        "t.tensor([[0.111,0.222,0.333]],dtype=t.float64,device=t.device('cpu'))"
      ],
      "execution_count": 19,
      "outputs": [
        {
          "output_type": "execute_result",
          "data": {
            "text/plain": [
              "tensor([[0.1110, 0.2220, 0.3330]], dtype=torch.float64)"
            ]
          },
          "metadata": {
            "tags": []
          },
          "execution_count": 19
        }
      ]
    },
    {
      "metadata": {
        "id": "4A3nscYorGPa",
        "colab_type": "code",
        "outputId": "dd567daa-5932-4871-e75e-8de5be363b46",
        "colab": {
          "base_uri": "https://localhost:8080/",
          "height": 34
        }
      },
      "cell_type": "code",
      "source": [
        "empty_tensor=t.tensor([])\n",
        "empty_tensor.shape"
      ],
      "execution_count": 20,
      "outputs": [
        {
          "output_type": "execute_result",
          "data": {
            "text/plain": [
              "torch.Size([0])"
            ]
          },
          "metadata": {
            "tags": []
          },
          "execution_count": 20
        }
      ]
    },
    {
      "metadata": {
        "id": "lUcf-u15rRh0",
        "colab_type": "text"
      },
      "cell_type": "markdown",
      "source": [
        "#### 常用Tensor操作\n",
        "通过tensor.view方法可以调整tensor的形状，但必须保证调整前后元素总数一致。view不会修改自身的数据，返回的新tensor与源tensor共享内存，也即更改其中的一个，另外一个也会跟着改变。在实际应用中可能经常需要添加或减少某一维度，这时候squeeze和unsqueeze两个函数就派上用场了。"
      ]
    },
    {
      "metadata": {
        "id": "vWTZ69ixraaf",
        "colab_type": "code",
        "outputId": "4dddbb87-f1b1-4c79-fd2a-bf84f906f756",
        "colab": {
          "base_uri": "https://localhost:8080/",
          "height": 50
        }
      },
      "cell_type": "code",
      "source": [
        "a=t.arange(0,6)\n",
        "a.view(2,3) #和reshape操作一样"
      ],
      "execution_count": 21,
      "outputs": [
        {
          "output_type": "execute_result",
          "data": {
            "text/plain": [
              "tensor([[0, 1, 2],\n",
              "        [3, 4, 5]])"
            ]
          },
          "metadata": {
            "tags": []
          },
          "execution_count": 21
        }
      ]
    },
    {
      "metadata": {
        "id": "XCaXLJhGroih",
        "colab_type": "code",
        "outputId": "75fe7bd4-0fca-40a4-c673-ea0934e5b69e",
        "colab": {
          "base_uri": "https://localhost:8080/",
          "height": 34
        }
      },
      "cell_type": "code",
      "source": [
        "b1=a.reshape(2,3)\n",
        "b2=a.view(2,3)\n",
        "b1.shape,b2.shape"
      ],
      "execution_count": 22,
      "outputs": [
        {
          "output_type": "execute_result",
          "data": {
            "text/plain": [
              "(torch.Size([2, 3]), torch.Size([2, 3]))"
            ]
          },
          "metadata": {
            "tags": []
          },
          "execution_count": 22
        }
      ]
    },
    {
      "metadata": {
        "id": "SfN5De1lrtrQ",
        "colab_type": "code",
        "outputId": "acf17dbd-81fc-4f59-8b19-73c13fbe0993",
        "colab": {
          "base_uri": "https://localhost:8080/",
          "height": 67
        }
      },
      "cell_type": "code",
      "source": [
        "#view不会修改自身的数据，返回的新tensor与源tensor共享内存，也即更改其中的一个，另外一个也会跟着改变。\n",
        "b1[0,1]=11\n",
        "a,b1,b2"
      ],
      "execution_count": 23,
      "outputs": [
        {
          "output_type": "execute_result",
          "data": {
            "text/plain": [
              "(tensor([ 0, 11,  2,  3,  4,  5]), tensor([[ 0, 11,  2],\n",
              "         [ 3,  4,  5]]), tensor([[ 0, 11,  2],\n",
              "         [ 3,  4,  5]]))"
            ]
          },
          "metadata": {
            "tags": []
          },
          "execution_count": 23
        }
      ]
    },
    {
      "metadata": {
        "id": "4TmTqY8Kr7-k",
        "colab_type": "code",
        "outputId": "c17353a5-ec54-490a-e1a1-ee79b0a1ccbc",
        "colab": {
          "base_uri": "https://localhost:8080/",
          "height": 118
        }
      },
      "cell_type": "code",
      "source": [
        "print(b1)\n",
        "print(b1.unsqueeze(1)) #在第一维(从下标0开始)上增加1\n",
        "#等价于b[:,None]\n",
        "b1[:,None].shape,b1.unsqueeze(1).shape"
      ],
      "execution_count": 24,
      "outputs": [
        {
          "output_type": "stream",
          "text": [
            "tensor([[ 0, 11,  2],\n",
            "        [ 3,  4,  5]])\n",
            "tensor([[[ 0, 11,  2]],\n",
            "\n",
            "        [[ 3,  4,  5]]])\n"
          ],
          "name": "stdout"
        },
        {
          "output_type": "execute_result",
          "data": {
            "text/plain": [
              "(torch.Size([2, 1, 3]), torch.Size([2, 1, 3]))"
            ]
          },
          "metadata": {
            "tags": []
          },
          "execution_count": 24
        }
      ]
    },
    {
      "metadata": {
        "id": "vsQbdlU6siMY",
        "colab_type": "code",
        "outputId": "5a6b99f9-208d-4f5b-b369-5d419ada4b60",
        "colab": {
          "base_uri": "https://localhost:8080/",
          "height": 34
        }
      },
      "cell_type": "code",
      "source": [
        "b1.unsqueeze(-2).shape #-2表示倒数第二个维度"
      ],
      "execution_count": 25,
      "outputs": [
        {
          "output_type": "execute_result",
          "data": {
            "text/plain": [
              "torch.Size([2, 1, 3])"
            ]
          },
          "metadata": {
            "tags": []
          },
          "execution_count": 25
        }
      ]
    },
    {
      "metadata": {
        "id": "xK48uYcztW00",
        "colab_type": "code",
        "outputId": "c2fc3c6d-ad25-408b-adb4-ba5cb9dc449b",
        "colab": {
          "base_uri": "https://localhost:8080/",
          "height": 50
        }
      },
      "cell_type": "code",
      "source": [
        "c=b1.view(1,1,1,2,3)\n",
        "c.squeeze(0) #压缩第0维"
      ],
      "execution_count": 26,
      "outputs": [
        {
          "output_type": "execute_result",
          "data": {
            "text/plain": [
              "tensor([[[[ 0, 11,  2],\n",
              "          [ 3,  4,  5]]]])"
            ]
          },
          "metadata": {
            "tags": []
          },
          "execution_count": 26
        }
      ]
    },
    {
      "metadata": {
        "id": "ELxktZf0tsCC",
        "colab_type": "code",
        "outputId": "18bf3184-18ec-4a9b-d564-df33fdc4c490",
        "colab": {
          "base_uri": "https://localhost:8080/",
          "height": 50
        }
      },
      "cell_type": "code",
      "source": [
        "c.squeeze() #把所有维度为1的压缩"
      ],
      "execution_count": 27,
      "outputs": [
        {
          "output_type": "execute_result",
          "data": {
            "text/plain": [
              "tensor([[ 0, 11,  2],\n",
              "        [ 3,  4,  5]])"
            ]
          },
          "metadata": {
            "tags": []
          },
          "execution_count": 27
        }
      ]
    },
    {
      "metadata": {
        "id": "Bs3AEfDdtzde",
        "colab_type": "code",
        "outputId": "70e62bf5-19b2-4ac1-b735-e029cc6a214c",
        "colab": {
          "base_uri": "https://localhost:8080/",
          "height": 50
        }
      },
      "cell_type": "code",
      "source": [
        "a[1]=100\n",
        "b1"
      ],
      "execution_count": 28,
      "outputs": [
        {
          "output_type": "execute_result",
          "data": {
            "text/plain": [
              "tensor([[  0, 100,   2],\n",
              "        [  3,   4,   5]])"
            ]
          },
          "metadata": {
            "tags": []
          },
          "execution_count": 28
        }
      ]
    },
    {
      "metadata": {
        "id": "N_HG6S7ht8to",
        "colab_type": "text"
      },
      "cell_type": "markdown",
      "source": [
        "resize是另一种可用来调整size的方法，但与view不同，它可以修改tensor的大小。如果新大小超过了原大小，会自动分配新的内存空间，而如果新大小小于原大小，则之前的数据依旧会被保存，看一个例子。"
      ]
    },
    {
      "metadata": {
        "id": "i8cfU1NUuCXs",
        "colab_type": "code",
        "outputId": "460f031d-1b9e-419c-91c3-da1cb924fa2d",
        "colab": {
          "base_uri": "https://localhost:8080/",
          "height": 67
        }
      },
      "cell_type": "code",
      "source": [
        "print(b1)\n",
        "b1.resize_(1,3)\n",
        "b1"
      ],
      "execution_count": 29,
      "outputs": [
        {
          "output_type": "stream",
          "text": [
            "tensor([[  0, 100,   2],\n",
            "        [  3,   4,   5]])\n"
          ],
          "name": "stdout"
        },
        {
          "output_type": "execute_result",
          "data": {
            "text/plain": [
              "tensor([[  0, 100,   2]])"
            ]
          },
          "metadata": {
            "tags": []
          },
          "execution_count": 29
        }
      ]
    },
    {
      "metadata": {
        "id": "CnLOuOFLuTOA",
        "colab_type": "code",
        "outputId": "3432d3b9-c272-4aaa-e183-49e5fcd8c71e",
        "colab": {
          "base_uri": "https://localhost:8080/",
          "height": 67
        }
      },
      "cell_type": "code",
      "source": [
        "b1.resize_(3,3) #旧的数据依旧会保存，多出来的大小会分配空间\n",
        "b1"
      ],
      "execution_count": 30,
      "outputs": [
        {
          "output_type": "execute_result",
          "data": {
            "text/plain": [
              "tensor([[           0,          100,            2],\n",
              "        [           3,            4,            5],\n",
              "        [420906795052, 188978561073, 214748364898]])"
            ]
          },
          "metadata": {
            "tags": []
          },
          "execution_count": 30
        }
      ]
    },
    {
      "metadata": {
        "id": "TCEj3NYZuZDt",
        "colab_type": "text"
      },
      "cell_type": "markdown",
      "source": [
        "#### 索引操作\n",
        "Tensor支持与numpy.ndarray类似的索引操作，语法上也类似，下面通过一些例子，讲解常用的索引操作。如无特殊说明，索引出来的结果与原tensor共享内存，也即修改一个，另一个会跟着修改。"
      ]
    },
    {
      "metadata": {
        "id": "9z58mjO1uq5l",
        "colab_type": "code",
        "outputId": "c0dca9e9-4758-4528-a3e3-24ea4d44f246",
        "colab": {
          "base_uri": "https://localhost:8080/",
          "height": 67
        }
      },
      "cell_type": "code",
      "source": [
        "a=t.randn(3,4)\n",
        "a"
      ],
      "execution_count": 31,
      "outputs": [
        {
          "output_type": "execute_result",
          "data": {
            "text/plain": [
              "tensor([[-0.1192,  0.4532,  0.7736,  1.5522],\n",
              "        [-1.3392,  0.7538,  1.1982,  0.4882],\n",
              "        [ 0.4375,  1.0059,  1.3819, -0.1414]])"
            ]
          },
          "metadata": {
            "tags": []
          },
          "execution_count": 31
        }
      ]
    },
    {
      "metadata": {
        "id": "GBSufDuluxK3",
        "colab_type": "code",
        "outputId": "04557ba9-8023-44d9-9051-cdb9a41d257e",
        "colab": {
          "base_uri": "https://localhost:8080/",
          "height": 34
        }
      },
      "cell_type": "code",
      "source": [
        "a[0] #第0行"
      ],
      "execution_count": 32,
      "outputs": [
        {
          "output_type": "execute_result",
          "data": {
            "text/plain": [
              "tensor([-0.1192,  0.4532,  0.7736,  1.5522])"
            ]
          },
          "metadata": {
            "tags": []
          },
          "execution_count": 32
        }
      ]
    },
    {
      "metadata": {
        "id": "BP6L96Dru1pG",
        "colab_type": "code",
        "outputId": "4abffa31-996d-4ea7-c281-7800088cbc0b",
        "colab": {
          "base_uri": "https://localhost:8080/",
          "height": 34
        }
      },
      "cell_type": "code",
      "source": [
        "a[:,0] #第0列"
      ],
      "execution_count": 33,
      "outputs": [
        {
          "output_type": "execute_result",
          "data": {
            "text/plain": [
              "tensor([-0.1192, -1.3392,  0.4375])"
            ]
          },
          "metadata": {
            "tags": []
          },
          "execution_count": 33
        }
      ]
    },
    {
      "metadata": {
        "id": "oE-vLUsGu5gD",
        "colab_type": "code",
        "outputId": "35ab29dc-ad0a-45b5-c427-850bc58e5186",
        "colab": {
          "base_uri": "https://localhost:8080/",
          "height": 34
        }
      },
      "cell_type": "code",
      "source": [
        "a[0][2] #第0行第2列，等价于a[0,2]"
      ],
      "execution_count": 34,
      "outputs": [
        {
          "output_type": "execute_result",
          "data": {
            "text/plain": [
              "tensor(0.7736)"
            ]
          },
          "metadata": {
            "tags": []
          },
          "execution_count": 34
        }
      ]
    },
    {
      "metadata": {
        "id": "yBKbSx30vEkA",
        "colab_type": "code",
        "outputId": "d8622eed-e3f5-460f-9485-2c412c3d4c85",
        "colab": {
          "base_uri": "https://localhost:8080/",
          "height": 34
        }
      },
      "cell_type": "code",
      "source": [
        "a[0,-1] #第0行，最后一列"
      ],
      "execution_count": 35,
      "outputs": [
        {
          "output_type": "execute_result",
          "data": {
            "text/plain": [
              "tensor(1.5522)"
            ]
          },
          "metadata": {
            "tags": []
          },
          "execution_count": 35
        }
      ]
    },
    {
      "metadata": {
        "id": "oYjoiDSfvJo9",
        "colab_type": "code",
        "outputId": "e4739aa5-8ce4-4ccc-c048-01e3ebd804f2",
        "colab": {
          "base_uri": "https://localhost:8080/",
          "height": 50
        }
      },
      "cell_type": "code",
      "source": [
        "a[:2] #前2行"
      ],
      "execution_count": 36,
      "outputs": [
        {
          "output_type": "execute_result",
          "data": {
            "text/plain": [
              "tensor([[-0.1192,  0.4532,  0.7736,  1.5522],\n",
              "        [-1.3392,  0.7538,  1.1982,  0.4882]])"
            ]
          },
          "metadata": {
            "tags": []
          },
          "execution_count": 36
        }
      ]
    },
    {
      "metadata": {
        "id": "jJOXC7yDvOH_",
        "colab_type": "code",
        "outputId": "a00e8f77-27f9-4a0c-f286-fe5fdfd0eb6a",
        "colab": {
          "base_uri": "https://localhost:8080/",
          "height": 50
        }
      },
      "cell_type": "code",
      "source": [
        "print(a[0:1,:2]) #第0行，前两列\n",
        "print(a[0,:2]) #和上个比较形状不同"
      ],
      "execution_count": 37,
      "outputs": [
        {
          "output_type": "stream",
          "text": [
            "tensor([[-0.1192,  0.4532]])\n",
            "tensor([-0.1192,  0.4532])\n"
          ],
          "name": "stdout"
        }
      ]
    },
    {
      "metadata": {
        "id": "QQXdEaDSvdSp",
        "colab_type": "code",
        "outputId": "eb078f10-6ceb-469c-940b-785088228293",
        "colab": {
          "base_uri": "https://localhost:8080/",
          "height": 34
        }
      },
      "cell_type": "code",
      "source": [
        "# None类似np.newaxis,为a新增了一个轴\n",
        "#等价于 a.vew(1,a.shape[0],a.shape[1])\n",
        "a[None].shape"
      ],
      "execution_count": 38,
      "outputs": [
        {
          "output_type": "execute_result",
          "data": {
            "text/plain": [
              "torch.Size([1, 3, 4])"
            ]
          },
          "metadata": {
            "tags": []
          },
          "execution_count": 38
        }
      ]
    },
    {
      "metadata": {
        "id": "PAlZ1Di4v0Gk",
        "colab_type": "code",
        "outputId": "7946b575-1074-4868-d607-28d259068227",
        "colab": {
          "base_uri": "https://localhost:8080/",
          "height": 34
        }
      },
      "cell_type": "code",
      "source": [
        "a[None].shape #等价于a[None,:,:]"
      ],
      "execution_count": 39,
      "outputs": [
        {
          "output_type": "execute_result",
          "data": {
            "text/plain": [
              "torch.Size([1, 3, 4])"
            ]
          },
          "metadata": {
            "tags": []
          },
          "execution_count": 39
        }
      ]
    },
    {
      "metadata": {
        "id": "wW2hI83ywGGI",
        "colab_type": "code",
        "outputId": "fe21a865-a719-48a4-b0c4-6f7595971a3b",
        "colab": {
          "base_uri": "https://localhost:8080/",
          "height": 34
        }
      },
      "cell_type": "code",
      "source": [
        "a[:,None,:].shape"
      ],
      "execution_count": 40,
      "outputs": [
        {
          "output_type": "execute_result",
          "data": {
            "text/plain": [
              "torch.Size([3, 1, 4])"
            ]
          },
          "metadata": {
            "tags": []
          },
          "execution_count": 40
        }
      ]
    },
    {
      "metadata": {
        "id": "NUimI_A5wKXj",
        "colab_type": "code",
        "outputId": "f7a70d73-a265-4d4d-b556-def3bda7384d",
        "colab": {
          "base_uri": "https://localhost:8080/",
          "height": 34
        }
      },
      "cell_type": "code",
      "source": [
        "a[:,None,:,None,None].shape"
      ],
      "execution_count": 41,
      "outputs": [
        {
          "output_type": "execute_result",
          "data": {
            "text/plain": [
              "torch.Size([3, 1, 4, 1, 1])"
            ]
          },
          "metadata": {
            "tags": []
          },
          "execution_count": 41
        }
      ]
    },
    {
      "metadata": {
        "id": "cd4hoePowPeg",
        "colab_type": "code",
        "outputId": "66c7faf5-715f-4c98-e7c2-cd7298cdc8bf",
        "colab": {
          "base_uri": "https://localhost:8080/",
          "height": 67
        }
      },
      "cell_type": "code",
      "source": [
        "a>1 #返回一ByteTensor"
      ],
      "execution_count": 42,
      "outputs": [
        {
          "output_type": "execute_result",
          "data": {
            "text/plain": [
              "tensor([[0, 0, 0, 1],\n",
              "        [0, 0, 1, 0],\n",
              "        [0, 1, 1, 0]], dtype=torch.uint8)"
            ]
          },
          "metadata": {
            "tags": []
          },
          "execution_count": 42
        }
      ]
    },
    {
      "metadata": {
        "id": "c1cRmXSnwWBs",
        "colab_type": "code",
        "outputId": "1156ae92-07ae-40e3-b834-4f9ffdc62caf",
        "colab": {
          "base_uri": "https://localhost:8080/",
          "height": 34
        }
      },
      "cell_type": "code",
      "source": [
        "a[a>1] #等价于a.masked_select(a>1)\n",
        "#选择结果与原Tensor不共享空间"
      ],
      "execution_count": 43,
      "outputs": [
        {
          "output_type": "execute_result",
          "data": {
            "text/plain": [
              "tensor([1.5522, 1.1982, 1.0059, 1.3819])"
            ]
          },
          "metadata": {
            "tags": []
          },
          "execution_count": 43
        }
      ]
    },
    {
      "metadata": {
        "id": "N6Vr6C3SwmWl",
        "colab_type": "code",
        "outputId": "d4b299eb-f52d-4dc8-d2fc-243cfa613bff",
        "colab": {
          "base_uri": "https://localhost:8080/",
          "height": 50
        }
      },
      "cell_type": "code",
      "source": [
        "a[t.LongTensor([0,1])] #第0行第1行"
      ],
      "execution_count": 44,
      "outputs": [
        {
          "output_type": "execute_result",
          "data": {
            "text/plain": [
              "tensor([[-0.1192,  0.4532,  0.7736,  1.5522],\n",
              "        [-1.3392,  0.7538,  1.1982,  0.4882]])"
            ]
          },
          "metadata": {
            "tags": []
          },
          "execution_count": 44
        }
      ]
    },
    {
      "metadata": {
        "id": "PyqF9bXwwu7o",
        "colab_type": "text"
      },
      "cell_type": "markdown",
      "source": [
        "其它常用的选择函数如表3-2所示。\n",
        "\n",
        "表3-2常用的选择函数\n",
        "\n",
        "函数|功能|\n",
        ":---:|:---:|\n",
        "index_select(input, dim, index)|在指定维度dim上选取，比如选取某些行、某些列\n",
        "masked_select(input, mask)|例子如上，a[a>0]，使用ByteTensor进行选取\n",
        "non_zero(input)|非0元素的下标\n",
        "gather(input, dim, index)|根据index，在dim维度上选取数据，输出的size与index一样\n",
        "\n",
        "\n",
        "`gather`是一个比较复杂的操作，对一个2维tensor，输出的每个元素如下：\n",
        "\n",
        "```python\n",
        "out[i][j] = input[index[i][j]][j]  # dim=0\n",
        "out[i][j] = input[i][index[i][j]]  # dim=1\n",
        "```\n",
        "三维tensor的`gather`操作同理，下面举几个例子。\n"
      ]
    },
    {
      "metadata": {
        "id": "E6gnJzNlw-CT",
        "colab_type": "code",
        "outputId": "b6f014d8-9614-415e-a52e-a828d03cb6b5",
        "colab": {
          "base_uri": "https://localhost:8080/",
          "height": 84
        }
      },
      "cell_type": "code",
      "source": [
        "a=t.arange(0,16).view(4,4)\n",
        "a"
      ],
      "execution_count": 45,
      "outputs": [
        {
          "output_type": "execute_result",
          "data": {
            "text/plain": [
              "tensor([[ 0,  1,  2,  3],\n",
              "        [ 4,  5,  6,  7],\n",
              "        [ 8,  9, 10, 11],\n",
              "        [12, 13, 14, 15]])"
            ]
          },
          "metadata": {
            "tags": []
          },
          "execution_count": 45
        }
      ]
    },
    {
      "metadata": {
        "id": "n9Ve7T8wx90m",
        "colab_type": "code",
        "outputId": "7437497e-2f1c-465a-d431-ad8bb1151648",
        "colab": {
          "base_uri": "https://localhost:8080/",
          "height": 34
        }
      },
      "cell_type": "code",
      "source": [
        "# 选取对焦元素\n",
        "index=t.LongTensor([[0,1,2,3]])\n",
        "a.gather(0,index)"
      ],
      "execution_count": 46,
      "outputs": [
        {
          "output_type": "execute_result",
          "data": {
            "text/plain": [
              "tensor([[ 0,  5, 10, 15]])"
            ]
          },
          "metadata": {
            "tags": []
          },
          "execution_count": 46
        }
      ]
    },
    {
      "metadata": {
        "id": "QhHOJnbMyMA9",
        "colab_type": "code",
        "outputId": "be81557d-3ece-4ed3-9150-a63f0d479248",
        "colab": {
          "base_uri": "https://localhost:8080/",
          "height": 84
        }
      },
      "cell_type": "code",
      "source": [
        "# 选取反对角线上元素\n",
        "index=t.LongTensor([[3,2,1,0]]).t()\n",
        "a.gather(1,index)"
      ],
      "execution_count": 47,
      "outputs": [
        {
          "output_type": "execute_result",
          "data": {
            "text/plain": [
              "tensor([[ 3],\n",
              "        [ 6],\n",
              "        [ 9],\n",
              "        [12]])"
            ]
          },
          "metadata": {
            "tags": []
          },
          "execution_count": 47
        }
      ]
    },
    {
      "metadata": {
        "id": "V8Tx4j0NyhaI",
        "colab_type": "code",
        "outputId": "1be92d30-be4e-46c9-c69a-0ebf27faa482",
        "colab": {
          "base_uri": "https://localhost:8080/",
          "height": 84
        }
      },
      "cell_type": "code",
      "source": [
        "index"
      ],
      "execution_count": 48,
      "outputs": [
        {
          "output_type": "execute_result",
          "data": {
            "text/plain": [
              "tensor([[3],\n",
              "        [2],\n",
              "        [1],\n",
              "        [0]])"
            ]
          },
          "metadata": {
            "tags": []
          },
          "execution_count": 48
        }
      ]
    },
    {
      "metadata": {
        "id": "FkdqpLp5zZJ9",
        "colab_type": "code",
        "outputId": "7101c18a-f7cf-493b-d616-bb13aba34006",
        "colab": {
          "base_uri": "https://localhost:8080/",
          "height": 34
        }
      },
      "cell_type": "code",
      "source": [
        "# 选取反对角线上元素\n",
        "index=t.LongTensor([[3,2,1,0]])\n",
        "a.gather(0,index)"
      ],
      "execution_count": 49,
      "outputs": [
        {
          "output_type": "execute_result",
          "data": {
            "text/plain": [
              "tensor([[12,  9,  6,  3]])"
            ]
          },
          "metadata": {
            "tags": []
          },
          "execution_count": 49
        }
      ]
    },
    {
      "metadata": {
        "id": "-HsaS--QzxNI",
        "colab_type": "code",
        "outputId": "ddf440e2-1fa9-40dc-d39e-3ae1651a5036",
        "colab": {
          "base_uri": "https://localhost:8080/",
          "height": 84
        }
      },
      "cell_type": "code",
      "source": [
        "# 选取两个对角线上的元素\n",
        "index=t.LongTensor([[0,1,2,3],[3,2,1,0]]).t()\n",
        "b=a.gather(1,index)\n",
        "b"
      ],
      "execution_count": 50,
      "outputs": [
        {
          "output_type": "execute_result",
          "data": {
            "text/plain": [
              "tensor([[ 0,  3],\n",
              "        [ 5,  6],\n",
              "        [10,  9],\n",
              "        [15, 12]])"
            ]
          },
          "metadata": {
            "tags": []
          },
          "execution_count": 50
        }
      ]
    },
    {
      "metadata": {
        "id": "GLuwcZHjz-Sb",
        "colab_type": "text"
      },
      "cell_type": "markdown",
      "source": [
        "与gather相对应的逆操作是scatter_，gather把数据从input中按index取出，而scatter_是把取出的数据再放回去。注意scatter_函数是inplace操作。\n",
        "```python\n",
        "out = input.gather(dim, index)\n",
        "-->近似逆操作\n",
        "out = Tensor()\n",
        "out.scatter_(dim, index)\n",
        "```"
      ]
    },
    {
      "metadata": {
        "id": "HewOABNU0Gl5",
        "colab_type": "code",
        "outputId": "7a08244c-0abc-4ce2-86cf-a898d605e8f7",
        "colab": {
          "base_uri": "https://localhost:8080/",
          "height": 84
        }
      },
      "cell_type": "code",
      "source": [
        "# 把两个对角线上的元素放回到指定位置\n",
        "c=t.zeros(4,4)\n",
        "c.scatter_(1,index,b.type(t.float32))"
      ],
      "execution_count": 51,
      "outputs": [
        {
          "output_type": "execute_result",
          "data": {
            "text/plain": [
              "tensor([[ 0.,  0.,  0.,  3.],\n",
              "        [ 0.,  5.,  6.,  0.],\n",
              "        [ 0.,  9., 10.,  0.],\n",
              "        [12.,  0.,  0., 15.]])"
            ]
          },
          "metadata": {
            "tags": []
          },
          "execution_count": 51
        }
      ]
    },
    {
      "metadata": {
        "id": "TRXoiQJr0mXn",
        "colab_type": "text"
      },
      "cell_type": "markdown",
      "source": [
        "对tensor的任何索引操作仍是一个tensor，想要获取标准的python对象数值，需要调用tensor.item(), 这个方法只对包含一个元素的tensor适用"
      ]
    },
    {
      "metadata": {
        "id": "gDqRiToP13B7",
        "colab_type": "code",
        "outputId": "c09c8158-cba3-47fa-ffbe-cea28a2f284e",
        "colab": {
          "base_uri": "https://localhost:8080/",
          "height": 34
        }
      },
      "cell_type": "code",
      "source": [
        "a[0,0]"
      ],
      "execution_count": 52,
      "outputs": [
        {
          "output_type": "execute_result",
          "data": {
            "text/plain": [
              "tensor(0)"
            ]
          },
          "metadata": {
            "tags": []
          },
          "execution_count": 52
        }
      ]
    },
    {
      "metadata": {
        "id": "bp4RXqF816CM",
        "colab_type": "code",
        "outputId": "2963d0b9-8cd4-41d4-87b4-dfc8f0efe654",
        "colab": {
          "base_uri": "https://localhost:8080/",
          "height": 34
        }
      },
      "cell_type": "code",
      "source": [
        "a[0,0].item()"
      ],
      "execution_count": 53,
      "outputs": [
        {
          "output_type": "execute_result",
          "data": {
            "text/plain": [
              "0"
            ]
          },
          "metadata": {
            "tags": []
          },
          "execution_count": 53
        }
      ]
    },
    {
      "metadata": {
        "id": "lhQjQnCi18d3",
        "colab_type": "code",
        "outputId": "da6acc7e-6186-43ed-f5cd-82fc4b1f16cc",
        "colab": {
          "base_uri": "https://localhost:8080/",
          "height": 50
        }
      },
      "cell_type": "code",
      "source": [
        "d=a[0:1,0:1,None]\n",
        "print(d.shape)\n",
        "d.item() # 只包含一个元素的tensor即可调用tensor.item,与形状无关"
      ],
      "execution_count": 54,
      "outputs": [
        {
          "output_type": "stream",
          "text": [
            "torch.Size([1, 1, 1])\n"
          ],
          "name": "stdout"
        },
        {
          "output_type": "execute_result",
          "data": {
            "text/plain": [
              "0"
            ]
          },
          "metadata": {
            "tags": []
          },
          "execution_count": 54
        }
      ]
    },
    {
      "metadata": {
        "id": "n74AHjxZ2G2N",
        "colab_type": "code",
        "colab": {}
      },
      "cell_type": "code",
      "source": [
        "# a[0].item()  ->\n",
        "# raise ValueError: only one element tensors can be converted to Python scalars"
      ],
      "execution_count": 0,
      "outputs": []
    },
    {
      "metadata": {
        "id": "Rn81oFds2hzM",
        "colab_type": "code",
        "outputId": "7a7ffb43-154b-43cb-f47c-8a001ed7f789",
        "colab": {
          "base_uri": "https://localhost:8080/",
          "height": 34
        }
      },
      "cell_type": "code",
      "source": [
        "scalar=a[0,0]\n",
        "scalar.shape"
      ],
      "execution_count": 56,
      "outputs": [
        {
          "output_type": "execute_result",
          "data": {
            "text/plain": [
              "torch.Size([])"
            ]
          },
          "metadata": {
            "tags": []
          },
          "execution_count": 56
        }
      ]
    },
    {
      "metadata": {
        "id": "O_lOjWvo2w44",
        "colab_type": "code",
        "outputId": "d394e5a9-31ed-456f-f37f-29f725bd4465",
        "colab": {
          "base_uri": "https://localhost:8080/",
          "height": 34
        }
      },
      "cell_type": "code",
      "source": [
        "scalar.item()"
      ],
      "execution_count": 57,
      "outputs": [
        {
          "output_type": "execute_result",
          "data": {
            "text/plain": [
              "0"
            ]
          },
          "metadata": {
            "tags": []
          },
          "execution_count": 57
        }
      ]
    },
    {
      "metadata": {
        "id": "7L2amdeM2zW0",
        "colab_type": "text"
      },
      "cell_type": "markdown",
      "source": [
        "#### 高级索引\n",
        "高级索引可以看成是普通索引操作的扩展，但是高级索引操作的结果一般不和原始的Tensor贡献内出"
      ]
    },
    {
      "metadata": {
        "id": "MmMp59-fImJf",
        "colab_type": "code",
        "colab": {
          "base_uri": "https://localhost:8080/",
          "height": 202
        },
        "outputId": "b91a5098-87ed-4fb9-cc81-fa042397c8c2"
      },
      "cell_type": "code",
      "source": [
        "x=t.arange(0,27).view(3,3,3)\n",
        "x"
      ],
      "execution_count": 59,
      "outputs": [
        {
          "output_type": "execute_result",
          "data": {
            "text/plain": [
              "tensor([[[ 0,  1,  2],\n",
              "         [ 3,  4,  5],\n",
              "         [ 6,  7,  8]],\n",
              "\n",
              "        [[ 9, 10, 11],\n",
              "         [12, 13, 14],\n",
              "         [15, 16, 17]],\n",
              "\n",
              "        [[18, 19, 20],\n",
              "         [21, 22, 23],\n",
              "         [24, 25, 26]]])"
            ]
          },
          "metadata": {
            "tags": []
          },
          "execution_count": 59
        }
      ]
    },
    {
      "metadata": {
        "id": "tge68A-cItQu",
        "colab_type": "code",
        "colab": {
          "base_uri": "https://localhost:8080/",
          "height": 34
        },
        "outputId": "cc34e318-80c9-4d69-b286-d2db45fb9659"
      },
      "cell_type": "code",
      "source": [
        "x[[1,2],[1,2],[2,0]] # 取x[1,1,2],x[2,2,0]"
      ],
      "execution_count": 60,
      "outputs": [
        {
          "output_type": "execute_result",
          "data": {
            "text/plain": [
              "tensor([14, 24])"
            ]
          },
          "metadata": {
            "tags": []
          },
          "execution_count": 60
        }
      ]
    },
    {
      "metadata": {
        "id": "7V8n0hWOI8zf",
        "colab_type": "code",
        "colab": {
          "base_uri": "https://localhost:8080/",
          "height": 34
        },
        "outputId": "7cd90f97-4eff-44c2-b14b-9a5af80f2727"
      },
      "cell_type": "code",
      "source": [
        "x[[2,1,0],[0],[1]] #取x[2,0,1],x[1,0,1],x[0,0,1]"
      ],
      "execution_count": 61,
      "outputs": [
        {
          "output_type": "execute_result",
          "data": {
            "text/plain": [
              "tensor([19, 10,  1])"
            ]
          },
          "metadata": {
            "tags": []
          },
          "execution_count": 61
        }
      ]
    },
    {
      "metadata": {
        "id": "-e2-vFXVJg5Y",
        "colab_type": "code",
        "colab": {
          "base_uri": "https://localhost:8080/",
          "height": 134
        },
        "outputId": "429dc482-97f9-4538-80bd-e9ab5c885935"
      },
      "cell_type": "code",
      "source": [
        "x[[0,2],...] #x[0],x[2]"
      ],
      "execution_count": 62,
      "outputs": [
        {
          "output_type": "execute_result",
          "data": {
            "text/plain": [
              "tensor([[[ 0,  1,  2],\n",
              "         [ 3,  4,  5],\n",
              "         [ 6,  7,  8]],\n",
              "\n",
              "        [[18, 19, 20],\n",
              "         [21, 22, 23],\n",
              "         [24, 25, 26]]])"
            ]
          },
          "metadata": {
            "tags": []
          },
          "execution_count": 62
        }
      ]
    },
    {
      "metadata": {
        "id": "3xpKVPEAJo0g",
        "colab_type": "code",
        "colab": {
          "base_uri": "https://localhost:8080/",
          "height": 134
        },
        "outputId": "2dc9c18f-f8fd-4017-c0d1-3412ebed226c"
      },
      "cell_type": "code",
      "source": [
        "x[[0,2],:,:]"
      ],
      "execution_count": 63,
      "outputs": [
        {
          "output_type": "execute_result",
          "data": {
            "text/plain": [
              "tensor([[[ 0,  1,  2],\n",
              "         [ 3,  4,  5],\n",
              "         [ 6,  7,  8]],\n",
              "\n",
              "        [[18, 19, 20],\n",
              "         [21, 22, 23],\n",
              "         [24, 25, 26]]])"
            ]
          },
          "metadata": {
            "tags": []
          },
          "execution_count": 63
        }
      ]
    },
    {
      "metadata": {
        "id": "c9LKI_amJrwP",
        "colab_type": "text"
      },
      "cell_type": "markdown",
      "source": [
        "#### Tensor类型\n",
        "Tensor有不同的数据类型，如表3-3所示，每种类型分别对应有CPU和GPU版本(HalfTensor除外)。默认的tensor是FloatTensor，可通过t.set_default_tensor_type 来修改默认tensor类型(如果默认类型为GPU tensor，则所有操作都将在GPU上进行)。Tensor的类型对分析内存占用很有帮助。例如对于一个size为(1000, 1000, 1000)的FloatTensor，它有1000*1000*1000=10^9个元素，每个元素占32bit/8 = 4Byte内存，所以共占大约4GB内存/显存。HalfTensor是专门为GPU版本设计的，同样的元素个数，显存占用只有FloatTensor的一半，所以可以极大缓解GPU显存不足的问题，但由于HalfTensor所能表示的数值大小和精度有限^2，所以可能出现溢出等问题。\n",
        "\n",
        "表3-3: tensor数据类型\n",
        "\n",
        "| Data type                | dtype                             | CPU tensor                                                   | GPU tensor                |\n",
        "| ------------------------ | --------------------------------- | ------------------------------------------------------------ | ------------------------- |\n",
        "| 32-bit floating point    | `torch.float32` or `torch.float`  | `torch.FloatTensor`                                          | `torch.cuda.FloatTensor`  |\n",
        "| 64-bit floating point    | `torch.float64` or `torch.double` | `torch.DoubleTensor`                                         | `torch.cuda.DoubleTensor` |\n",
        "| 16-bit floating point    | `torch.float16` or `torch.half`   | `torch.HalfTensor`                                           | `torch.cuda.HalfTensor`   |\n",
        "| 8-bit integer (unsigned) | `torch.uint8`                     | [`torch.ByteTensor`](https://pytorch.org/docs/stable/tensors.html#torch.ByteTensor) | `torch.cuda.ByteTensor`   |\n",
        "| 8-bit integer (signed)   | `torch.int8`                      | `torch.CharTensor`                                           | `torch.cuda.CharTensor`   |\n",
        "| 16-bit integer (signed)  | `torch.int16` or `torch.short`    | `torch.ShortTensor`                                          | `torch.cuda.ShortTensor`  |\n",
        "| 32-bit integer (signed)  | `torch.int32` or `torch.int`      | `torch.IntTensor`                                            | `torch.cuda.IntTensor`    |\n",
        "| 64-bit integer (signed)  | `torch.int64` or `torch.long`     | `torch.LongTensor`                                           | `torch.cuda.LongTensor`   |\n",
        "\n",
        "各数据类型之间可以互相转换，`type(new_type)`是通用的做法，同时还有`float`、`long`、`half`等快捷方法。CPU tensor与GPU tensor之间的互相转换通过`tensor.cuda`和`tensor.cpu`方法实现，此外还可以使用`tensor.to(device)`。Tensor还有一个`new`方法，用法与`t.Tensor`一样，会调用该tensor对应类型的构造函数，生成与当前tensor类型一致的tensor。`torch.*_like(tensora)` 可以生成和`tensora`拥有同样属性(类型，形状，cpu/gpu)的新tensor。 `tensor.new_*(new_shape)` 新建一个不同形状的tensor。"
      ]
    },
    {
      "metadata": {
        "id": "Jd2VrA-YJ5ce",
        "colab_type": "code",
        "colab": {}
      },
      "cell_type": "code",
      "source": [
        "# 设置默认tensor，参数是字符\n",
        "t.set_default_tensor_type(\"torch.DoubleTensor\")"
      ],
      "execution_count": 0,
      "outputs": []
    },
    {
      "metadata": {
        "id": "LHBH96k7KuNV",
        "colab_type": "code",
        "colab": {
          "base_uri": "https://localhost:8080/",
          "height": 34
        },
        "outputId": "6f721c1b-ac45-4cb9-9ef7-dbbcdf5718f4"
      },
      "cell_type": "code",
      "source": [
        "a=t.Tensor(2,3)\n",
        "a.dtype"
      ],
      "execution_count": 70,
      "outputs": [
        {
          "output_type": "execute_result",
          "data": {
            "text/plain": [
              "torch.float64"
            ]
          },
          "metadata": {
            "tags": []
          },
          "execution_count": 70
        }
      ]
    },
    {
      "metadata": {
        "id": "l8C_9x9IK6i5",
        "colab_type": "code",
        "colab": {}
      },
      "cell_type": "code",
      "source": [
        "#恢复之前默认的类型\n",
        "\n",
        "t.set_default_tensor_type(\"torch.FloatTensor\")"
      ],
      "execution_count": 0,
      "outputs": []
    },
    {
      "metadata": {
        "id": "4KiHmvBoLNbz",
        "colab_type": "code",
        "colab": {
          "base_uri": "https://localhost:8080/",
          "height": 34
        },
        "outputId": "dbb26c6b-6b20-498f-9c94-310cf0a32ffa"
      },
      "cell_type": "code",
      "source": [
        "# 把a转化成floatTensor，等价于b=a.type(t.FloatTensor)\n",
        "b=a.float()\n",
        "b.dtype"
      ],
      "execution_count": 72,
      "outputs": [
        {
          "output_type": "execute_result",
          "data": {
            "text/plain": [
              "torch.float32"
            ]
          },
          "metadata": {
            "tags": []
          },
          "execution_count": 72
        }
      ]
    },
    {
      "metadata": {
        "id": "IUH9dM-5LRKv",
        "colab_type": "code",
        "colab": {
          "base_uri": "https://localhost:8080/",
          "height": 34
        },
        "outputId": "a9761cc0-d273-41fb-d1ce-44e0eb016035"
      },
      "cell_type": "code",
      "source": [
        "c=a.type_as(b)\n",
        "c.dtype"
      ],
      "execution_count": 75,
      "outputs": [
        {
          "output_type": "execute_result",
          "data": {
            "text/plain": [
              "torch.float32"
            ]
          },
          "metadata": {
            "tags": []
          },
          "execution_count": 75
        }
      ]
    },
    {
      "metadata": {
        "id": "EgBu_18hLiKm",
        "colab_type": "code",
        "colab": {
          "base_uri": "https://localhost:8080/",
          "height": 50
        },
        "outputId": "ed368e5d-3bf3-4a4a-f736-bd7848b821bc"
      },
      "cell_type": "code",
      "source": [
        "a.new(2,3) #等价于torch.DoubleTensor(2,3) 建议使用a.new_tensor()"
      ],
      "execution_count": 76,
      "outputs": [
        {
          "output_type": "execute_result",
          "data": {
            "text/plain": [
              "tensor([[4.6407e-316, 9.8813e-323, 2.1220e-314],\n",
              "        [1.6779e+243, 1.6779e+243, 3.4313e-315]], dtype=torch.float64)"
            ]
          },
          "metadata": {
            "tags": []
          },
          "execution_count": 76
        }
      ]
    },
    {
      "metadata": {
        "id": "SvvomooLLzfj",
        "colab_type": "code",
        "colab": {
          "base_uri": "https://localhost:8080/",
          "height": 50
        },
        "outputId": "2cc61f33-8bdc-4c52-dc2d-d8a89cf0c276"
      },
      "cell_type": "code",
      "source": [
        "t.zeros_like(a,dtype=t.int16)"
      ],
      "execution_count": 77,
      "outputs": [
        {
          "output_type": "execute_result",
          "data": {
            "text/plain": [
              "tensor([[0, 0, 0],\n",
              "        [0, 0, 0]], dtype=torch.int16)"
            ]
          },
          "metadata": {
            "tags": []
          },
          "execution_count": 77
        }
      ]
    },
    {
      "metadata": {
        "id": "LTakRxVhL7hb",
        "colab_type": "code",
        "colab": {
          "base_uri": "https://localhost:8080/",
          "height": 50
        },
        "outputId": "e9530b27-4d22-4ab6-c9a7-204223659bbf"
      },
      "cell_type": "code",
      "source": [
        "t.rand_like(a)"
      ],
      "execution_count": 78,
      "outputs": [
        {
          "output_type": "execute_result",
          "data": {
            "text/plain": [
              "tensor([[0.3783, 0.1035, 0.8331],\n",
              "        [0.8463, 0.7219, 0.8267]], dtype=torch.float64)"
            ]
          },
          "metadata": {
            "tags": []
          },
          "execution_count": 78
        }
      ]
    },
    {
      "metadata": {
        "id": "It1haB-VL-O-",
        "colab_type": "code",
        "colab": {
          "base_uri": "https://localhost:8080/",
          "height": 84
        },
        "outputId": "4386c1d9-a301-4139-b2cc-09d46c61ef5f"
      },
      "cell_type": "code",
      "source": [
        "a.new_ones(4,5,dtype=t.int)"
      ],
      "execution_count": 83,
      "outputs": [
        {
          "output_type": "execute_result",
          "data": {
            "text/plain": [
              "tensor([[1, 1, 1, 1, 1],\n",
              "        [1, 1, 1, 1, 1],\n",
              "        [1, 1, 1, 1, 1],\n",
              "        [1, 1, 1, 1, 1]], dtype=torch.int32)"
            ]
          },
          "metadata": {
            "tags": []
          },
          "execution_count": 83
        }
      ]
    },
    {
      "metadata": {
        "id": "cUQeQkw2MBid",
        "colab_type": "code",
        "colab": {
          "base_uri": "https://localhost:8080/",
          "height": 34
        },
        "outputId": "8e7078ef-4fec-4bd6-c32d-e187790deedd"
      },
      "cell_type": "code",
      "source": [
        "a.new_tensor([3,4])"
      ],
      "execution_count": 84,
      "outputs": [
        {
          "output_type": "execute_result",
          "data": {
            "text/plain": [
              "tensor([3., 4.], dtype=torch.float64)"
            ]
          },
          "metadata": {
            "tags": []
          },
          "execution_count": 84
        }
      ]
    },
    {
      "metadata": {
        "id": "jyTpuCYXMSC_",
        "colab_type": "text"
      },
      "cell_type": "markdown",
      "source": [
        "#### 逐个元素操作\n",
        "这部分操作会对tensor的每一个元素(point-wise，又名element-wise)进行操作，此类操作的输入与输出形状一致。常用的操作如表3-4所示。\n",
        "\n",
        "表3-4: 常见的逐元素操作\n",
        "\n",
        "|函数|功能|\n",
        "|:--:|:--:|\n",
        "|abs/sqrt/div/exp/fmod/log/pow..|绝对值/平方根/除法/指数/求余/求幂..|\n",
        "|cos/sin/asin/atan2/cosh..|相关三角函数|\n",
        "|ceil/round/floor/trunc| 上取整/四舍五入/下取整/只保留整数部分|\n",
        "|clamp(input, min, max)|超过min和max部分截断|\n",
        "|sigmod/tanh..|激活函数\n",
        "\n",
        "对于很多操作，例如div、mul、pow、fmod等，PyTorch都实现了运算符重载，所以可以直接使用运算符。如`a ** 2` 等价于`torch.pow(a,2)`, `a * 2`等价于`torch.mul(a,2)`。\n",
        "\n",
        "其中`clamp(x, min, max)`的输出满足以下公式：\n",
        "$$\n",
        "y_i =\n",
        "\\begin{cases}\n",
        "min,  & \\text{if  } x_i \\lt min \\\\\n",
        "x_i,  & \\text{if  } min \\le x_i \\le max  \\\\\n",
        "max,  & \\text{if  } x_i \\gt max\\\\\n",
        "\\end{cases}\n",
        "$$\n",
        "`clamp`常用在某些需要比较大小的地方，如取一个tensor的每个元素与另一个数的较大值。"
      ]
    },
    {
      "metadata": {
        "id": "RDPAb2-DMjFr",
        "colab_type": "code",
        "colab": {
          "base_uri": "https://localhost:8080/",
          "height": 50
        },
        "outputId": "7342dbbb-33b5-41cd-85f3-dbf5e3252cd7"
      },
      "cell_type": "code",
      "source": [
        "a=t.arange(0,6,dtype=t.float32).view(2,3)\n",
        "a.cos()"
      ],
      "execution_count": 88,
      "outputs": [
        {
          "output_type": "execute_result",
          "data": {
            "text/plain": [
              "tensor([[ 1.0000,  0.5403, -0.4161],\n",
              "        [-0.9900, -0.6536,  0.2837]])"
            ]
          },
          "metadata": {
            "tags": []
          },
          "execution_count": 88
        }
      ]
    },
    {
      "metadata": {
        "id": "6KeYD4j2M1n7",
        "colab_type": "code",
        "colab": {
          "base_uri": "https://localhost:8080/",
          "height": 50
        },
        "outputId": "1ed3314f-01b3-42ee-a7c9-94179cb01710"
      },
      "cell_type": "code",
      "source": [
        "a%3"
      ],
      "execution_count": 89,
      "outputs": [
        {
          "output_type": "execute_result",
          "data": {
            "text/plain": [
              "tensor([[0., 1., 2.],\n",
              "        [0., 1., 2.]])"
            ]
          },
          "metadata": {
            "tags": []
          },
          "execution_count": 89
        }
      ]
    },
    {
      "metadata": {
        "id": "BkgN1__VNLGS",
        "colab_type": "code",
        "colab": {
          "base_uri": "https://localhost:8080/",
          "height": 50
        },
        "outputId": "c67851e9-1586-4be8-c6e8-5a58f9055162"
      },
      "cell_type": "code",
      "source": [
        "a**3  #等价于t.pow(a,3)"
      ],
      "execution_count": 90,
      "outputs": [
        {
          "output_type": "execute_result",
          "data": {
            "text/plain": [
              "tensor([[  0.,   1.,   8.],\n",
              "        [ 27.,  64., 125.]])"
            ]
          },
          "metadata": {
            "tags": []
          },
          "execution_count": 90
        }
      ]
    },
    {
      "metadata": {
        "id": "Tvw4bqBMNNUE",
        "colab_type": "code",
        "colab": {
          "base_uri": "https://localhost:8080/",
          "height": 84
        },
        "outputId": "ca36a948-2c9c-4743-c173-a8c5542e0733"
      },
      "cell_type": "code",
      "source": [
        "print(a)\n",
        "t.clamp(a,min=3)"
      ],
      "execution_count": 91,
      "outputs": [
        {
          "output_type": "stream",
          "text": [
            "tensor([[0., 1., 2.],\n",
            "        [3., 4., 5.]])\n"
          ],
          "name": "stdout"
        },
        {
          "output_type": "execute_result",
          "data": {
            "text/plain": [
              "tensor([[3., 3., 3.],\n",
              "        [3., 4., 5.]])"
            ]
          },
          "metadata": {
            "tags": []
          },
          "execution_count": 91
        }
      ]
    },
    {
      "metadata": {
        "id": "OgUeGvKCNYLS",
        "colab_type": "code",
        "colab": {
          "base_uri": "https://localhost:8080/",
          "height": 50
        },
        "outputId": "3f3990df-e49c-4580-8cc3-8a0698535b77"
      },
      "cell_type": "code",
      "source": [
        "b=a.sin_() #效果等于a=a.sin();b=a,但更省显存\n",
        "a"
      ],
      "execution_count": 92,
      "outputs": [
        {
          "output_type": "execute_result",
          "data": {
            "text/plain": [
              "tensor([[ 0.0000,  0.8415,  0.9093],\n",
              "        [ 0.1411, -0.7568, -0.9589]])"
            ]
          },
          "metadata": {
            "tags": []
          },
          "execution_count": 92
        }
      ]
    },
    {
      "metadata": {
        "id": "cwDYoAWWNkah",
        "colab_type": "text"
      },
      "cell_type": "markdown",
      "source": [
        "#### 归并操作\n",
        "此类操作会使输出形状小于输入形状，并可以沿着某一维度进行指定操作。如加法`sum`，既可以计算整个tensor的和，也可以计算tensor中每一行或每一列的和。常用的归并操作如表3-5所示。\n",
        "\n",
        "表3-5: 常用归并操作\n",
        "\n",
        "|函数|功能|\n",
        "|:---:|:---:|\n",
        "|mean/sum/median/mode|均值/和/中位数/众数|\n",
        "|norm/dist|范数/距离|\n",
        "|std/var|标准差/方差|\n",
        "|cumsum/cumprod|累加/累乘|\n",
        "\n",
        "以上大多数函数都有一个参数**`dim`**，用来指定这些操作是在哪个维度上执行的。关于dim(对应于Numpy中的axis)的解释众说纷纭，这里提供一个简单的记忆方式：\n",
        "\n",
        "假设输入的形状是(m, n, k)\n",
        "\n",
        "- 如果指定dim=0，输出的形状就是(1, n, k)或者(n, k)\n",
        "- 如果指定dim=1，输出的形状就是(m, 1, k)或者(m, k)\n",
        "- 如果指定dim=2，输出的形状就是(m, n, 1)或者(m, n)\n",
        "\n",
        "size中是否有\"1\"，取决于参数`keepdim`，`keepdim=True`会保留维度`1`。注意，以上只是经验总结，并非所有函数都符合这种形状变化方式，如`cumsum`。"
      ]
    },
    {
      "metadata": {
        "id": "kPJ_NSCyNu22",
        "colab_type": "code",
        "colab": {
          "base_uri": "https://localhost:8080/",
          "height": 34
        },
        "outputId": "bd89d891-5720-4cf0-e275-23ccd7f86f64"
      },
      "cell_type": "code",
      "source": [
        "b=t.ones(2,3)\n",
        "b.sum(dim=0,keepdim=True)"
      ],
      "execution_count": 93,
      "outputs": [
        {
          "output_type": "execute_result",
          "data": {
            "text/plain": [
              "tensor([[2., 2., 2.]])"
            ]
          },
          "metadata": {
            "tags": []
          },
          "execution_count": 93
        }
      ]
    },
    {
      "metadata": {
        "id": "_cyk-N4lOFVF",
        "colab_type": "code",
        "colab": {
          "base_uri": "https://localhost:8080/",
          "height": 34
        },
        "outputId": "78afadab-306c-4f61-8e19-9cea063c266e"
      },
      "cell_type": "code",
      "source": [
        "b.sum(dim=0)"
      ],
      "execution_count": 94,
      "outputs": [
        {
          "output_type": "execute_result",
          "data": {
            "text/plain": [
              "tensor([2., 2., 2.])"
            ]
          },
          "metadata": {
            "tags": []
          },
          "execution_count": 94
        }
      ]
    },
    {
      "metadata": {
        "id": "bqsnSTsmOLTh",
        "colab_type": "code",
        "colab": {
          "base_uri": "https://localhost:8080/",
          "height": 34
        },
        "outputId": "026b5580-8310-40a7-8e99-f3e5c27d19ee"
      },
      "cell_type": "code",
      "source": [
        "b.sum(dim=1)"
      ],
      "execution_count": 95,
      "outputs": [
        {
          "output_type": "execute_result",
          "data": {
            "text/plain": [
              "tensor([3., 3.])"
            ]
          },
          "metadata": {
            "tags": []
          },
          "execution_count": 95
        }
      ]
    },
    {
      "metadata": {
        "id": "5FLCDq_DONtV",
        "colab_type": "code",
        "colab": {
          "base_uri": "https://localhost:8080/",
          "height": 84
        },
        "outputId": "d35b692b-c844-4ce2-ae0b-62a9fa4f5aa5"
      },
      "cell_type": "code",
      "source": [
        "a=t.arange(0,6).view(2,3)\n",
        "print(a)\n",
        "a.cumsum(dim=1) #沿着行累加"
      ],
      "execution_count": 96,
      "outputs": [
        {
          "output_type": "stream",
          "text": [
            "tensor([[0, 1, 2],\n",
            "        [3, 4, 5]])\n"
          ],
          "name": "stdout"
        },
        {
          "output_type": "execute_result",
          "data": {
            "text/plain": [
              "tensor([[ 0,  1,  3],\n",
              "        [ 3,  7, 12]])"
            ]
          },
          "metadata": {
            "tags": []
          },
          "execution_count": 96
        }
      ]
    },
    {
      "metadata": {
        "id": "4ci0RAjfOaDe",
        "colab_type": "code",
        "colab": {
          "base_uri": "https://localhost:8080/",
          "height": 50
        },
        "outputId": "c84ca2b7-3724-4bec-c6ff-a94648085d45"
      },
      "cell_type": "code",
      "source": [
        "a.cumsum(dim=0)"
      ],
      "execution_count": 97,
      "outputs": [
        {
          "output_type": "execute_result",
          "data": {
            "text/plain": [
              "tensor([[0, 1, 2],\n",
              "        [3, 5, 7]])"
            ]
          },
          "metadata": {
            "tags": []
          },
          "execution_count": 97
        }
      ]
    },
    {
      "metadata": {
        "id": "QgVSp9kdOluM",
        "colab_type": "text"
      },
      "cell_type": "markdown",
      "source": [
        "#### 比较\n",
        "比较函数中有一些是逐元素比较，操作类似于逐元素操作，还有一些则类似于归并操作。常用比较函数如表3-6所示。\n",
        "\n",
        "表3-6: 常用比较函数\n",
        "\n",
        "|函数|功能|\n",
        "|:--:|:--:|\n",
        "|gt/lt/ge/le/eq/ne|大于/小于/大于等于/小于等于/等于/不等|\n",
        "|topk|最大的k个数|\n",
        "|sort|排序|\n",
        "|max/min|比较两个tensor最大最小值|\n",
        "\n",
        "表中第一行的比较操作已经实现了运算符重载，因此可以使用`a>=b`、`a>b`、`a!=b`、`a==b`，其返回结果是一个`ByteTensor`，可用来选取元素。max/min这两个操作比较特殊，以max来说，它有以下三种使用情况：\n",
        "- t.max(tensor)：返回tensor中最大的一个数\n",
        "- t.max(tensor,dim)：指定维上最大的数，返回tensor和下标\n",
        "- t.max(tensor1, tensor2): 比较两个tensor相比较大的元素\n",
        "\n",
        "至于比较一个tensor和一个数，可以使用clamp函数。下面举例说明。"
      ]
    },
    {
      "metadata": {
        "id": "y2fI6OspO3jq",
        "colab_type": "code",
        "colab": {
          "base_uri": "https://localhost:8080/",
          "height": 50
        },
        "outputId": "6fc40754-8483-41b5-9504-d82574806df6"
      },
      "cell_type": "code",
      "source": [
        "a=t.linspace(0,15,6).view(2,3)\n",
        "a"
      ],
      "execution_count": 99,
      "outputs": [
        {
          "output_type": "execute_result",
          "data": {
            "text/plain": [
              "tensor([[ 0.,  3.,  6.],\n",
              "        [ 9., 12., 15.]])"
            ]
          },
          "metadata": {
            "tags": []
          },
          "execution_count": 99
        }
      ]
    },
    {
      "metadata": {
        "id": "bJkVulLAPZsJ",
        "colab_type": "code",
        "colab": {
          "base_uri": "https://localhost:8080/",
          "height": 50
        },
        "outputId": "42590392-9413-4692-e10e-0be2bc00da3a"
      },
      "cell_type": "code",
      "source": [
        "b=t.linspace(15,0,6).view(2,3)\n",
        "b"
      ],
      "execution_count": 100,
      "outputs": [
        {
          "output_type": "execute_result",
          "data": {
            "text/plain": [
              "tensor([[15., 12.,  9.],\n",
              "        [ 6.,  3.,  0.]])"
            ]
          },
          "metadata": {
            "tags": []
          },
          "execution_count": 100
        }
      ]
    },
    {
      "metadata": {
        "id": "FGP3O0OIPlXU",
        "colab_type": "code",
        "colab": {
          "base_uri": "https://localhost:8080/",
          "height": 50
        },
        "outputId": "febdb344-e736-4d69-e063-2ce1afd8423a"
      },
      "cell_type": "code",
      "source": [
        "a>b"
      ],
      "execution_count": 101,
      "outputs": [
        {
          "output_type": "execute_result",
          "data": {
            "text/plain": [
              "tensor([[0, 0, 0],\n",
              "        [1, 1, 1]], dtype=torch.uint8)"
            ]
          },
          "metadata": {
            "tags": []
          },
          "execution_count": 101
        }
      ]
    },
    {
      "metadata": {
        "id": "fhgzAnbKPmsf",
        "colab_type": "code",
        "colab": {
          "base_uri": "https://localhost:8080/",
          "height": 34
        },
        "outputId": "9b6e50a7-144b-40c3-f87d-f8dab9256510"
      },
      "cell_type": "code",
      "source": [
        "a[a>b]"
      ],
      "execution_count": 102,
      "outputs": [
        {
          "output_type": "execute_result",
          "data": {
            "text/plain": [
              "tensor([ 9., 12., 15.])"
            ]
          },
          "metadata": {
            "tags": []
          },
          "execution_count": 102
        }
      ]
    },
    {
      "metadata": {
        "id": "xYo61MZcPpPi",
        "colab_type": "code",
        "colab": {
          "base_uri": "https://localhost:8080/",
          "height": 34
        },
        "outputId": "7838d608-ce76-425f-e30c-0ff8b9f23eac"
      },
      "cell_type": "code",
      "source": [
        "t.max(a),a.max()"
      ],
      "execution_count": 103,
      "outputs": [
        {
          "output_type": "execute_result",
          "data": {
            "text/plain": [
              "(tensor(15.), tensor(15.))"
            ]
          },
          "metadata": {
            "tags": []
          },
          "execution_count": 103
        }
      ]
    },
    {
      "metadata": {
        "id": "jB2LF8EjPsdn",
        "colab_type": "code",
        "colab": {
          "base_uri": "https://localhost:8080/",
          "height": 34
        },
        "outputId": "b26220b4-800b-416e-f9b5-6bf54584c8e7"
      },
      "cell_type": "code",
      "source": [
        "t.max(b,dim=1)\n",
        "# 第一个返回值的15和6分别表示第0行和第1行最大的元素\n",
        "# 第二个返回值的0和0表示上述最大的数是该行第0个元素"
      ],
      "execution_count": 104,
      "outputs": [
        {
          "output_type": "execute_result",
          "data": {
            "text/plain": [
              "(tensor([15.,  6.]), tensor([0, 0]))"
            ]
          },
          "metadata": {
            "tags": []
          },
          "execution_count": 104
        }
      ]
    },
    {
      "metadata": {
        "id": "OMnXW1wNPvgb",
        "colab_type": "code",
        "colab": {
          "base_uri": "https://localhost:8080/",
          "height": 50
        },
        "outputId": "5a3db7d8-609f-4018-b1a1-5576f9be6182"
      },
      "cell_type": "code",
      "source": [
        "t.max(a,b)"
      ],
      "execution_count": 106,
      "outputs": [
        {
          "output_type": "execute_result",
          "data": {
            "text/plain": [
              "tensor([[15., 12.,  9.],\n",
              "        [ 9., 12., 15.]])"
            ]
          },
          "metadata": {
            "tags": []
          },
          "execution_count": 106
        }
      ]
    },
    {
      "metadata": {
        "id": "TyY_a3oMP8hH",
        "colab_type": "code",
        "colab": {
          "base_uri": "https://localhost:8080/",
          "height": 50
        },
        "outputId": "af31810d-273b-4949-904f-7bb3fb896759"
      },
      "cell_type": "code",
      "source": [
        "# 比较tensor和单值大小\n",
        "t.clamp(a,min=10)"
      ],
      "execution_count": 107,
      "outputs": [
        {
          "output_type": "execute_result",
          "data": {
            "text/plain": [
              "tensor([[10., 10., 10.],\n",
              "        [10., 12., 15.]])"
            ]
          },
          "metadata": {
            "tags": []
          },
          "execution_count": 107
        }
      ]
    },
    {
      "metadata": {
        "id": "yNtzWX8eQHnL",
        "colab_type": "text"
      },
      "cell_type": "markdown",
      "source": [
        "#### 线性代数\n",
        "PyTorch的线性函数主要封装了Blas和Lapack，其用法和接口都与之类似。常用的线性代数函数如表3-7所示。\n",
        "\n",
        "表3-7: 常用的线性代数函数\n",
        "\n",
        "|函数|功能|\n",
        "|:---:|:---:|\n",
        "|trace|对角线元素之和(矩阵的迹)|\n",
        "|diag|对角线元素|\n",
        "|triu/tril|矩阵的上三角/下三角，可指定偏移量|\n",
        "|mm/bmm|矩阵乘法，batch的矩阵乘法|\n",
        "|addmm/addbmm/addmv/addr/badbmm..|矩阵运算\n",
        "|t|转置|\n",
        "|dot/cross|内积/外积\n",
        "|inverse|求逆矩阵\n",
        "|svd|奇异值分解\n",
        "\n",
        "具体使用说明请参见官方文档[^3]，需要注意的是，矩阵的转置会导致存储空间不连续，需调用它的`.contiguous`方法将其转为连续。"
      ]
    },
    {
      "metadata": {
        "id": "PFNEa89-QOdt",
        "colab_type": "code",
        "colab": {
          "base_uri": "https://localhost:8080/",
          "height": 101
        },
        "outputId": "b38c4f4c-f3f3-480c-f990-cb24f02d5093"
      },
      "cell_type": "code",
      "source": [
        "print(b)\n",
        "b.t()"
      ],
      "execution_count": 109,
      "outputs": [
        {
          "output_type": "stream",
          "text": [
            "tensor([[15., 12.,  9.],\n",
            "        [ 6.,  3.,  0.]])\n"
          ],
          "name": "stdout"
        },
        {
          "output_type": "execute_result",
          "data": {
            "text/plain": [
              "tensor([[15.,  6.],\n",
              "        [12.,  3.],\n",
              "        [ 9.,  0.]])"
            ]
          },
          "metadata": {
            "tags": []
          },
          "execution_count": 109
        }
      ]
    },
    {
      "metadata": {
        "id": "BcgrAB2hQga5",
        "colab_type": "code",
        "colab": {
          "base_uri": "https://localhost:8080/",
          "height": 50
        },
        "outputId": "6d66a80f-9815-44b1-d5a5-38d5d53eb96c"
      },
      "cell_type": "code",
      "source": [
        "print(b.is_contiguous())\n",
        "b=b.t()\n",
        "b.is_contiguous()"
      ],
      "execution_count": 111,
      "outputs": [
        {
          "output_type": "stream",
          "text": [
            "True\n"
          ],
          "name": "stdout"
        },
        {
          "output_type": "execute_result",
          "data": {
            "text/plain": [
              "False"
            ]
          },
          "metadata": {
            "tags": []
          },
          "execution_count": 111
        }
      ]
    },
    {
      "metadata": {
        "id": "BILlqCcyQmxJ",
        "colab_type": "code",
        "colab": {
          "base_uri": "https://localhost:8080/",
          "height": 34
        },
        "outputId": "618f2e22-6a3a-4e01-aa6f-bd39ea24a403"
      },
      "cell_type": "code",
      "source": [
        "b=b.contiguous()\n",
        "b.is_contiguous()"
      ],
      "execution_count": 114,
      "outputs": [
        {
          "output_type": "execute_result",
          "data": {
            "text/plain": [
              "True"
            ]
          },
          "metadata": {
            "tags": []
          },
          "execution_count": 114
        }
      ]
    },
    {
      "metadata": {
        "id": "1_FK4T10Q7wS",
        "colab_type": "code",
        "colab": {
          "base_uri": "https://localhost:8080/",
          "height": 84
        },
        "outputId": "98b7cb23-6ccc-45f6-fea2-e0a10de7f3b6"
      },
      "cell_type": "code",
      "source": [
        "a,b"
      ],
      "execution_count": 115,
      "outputs": [
        {
          "output_type": "execute_result",
          "data": {
            "text/plain": [
              "(tensor([[ 0.,  3.,  6.],\n",
              "         [ 9., 12., 15.]]), tensor([[15.,  6.],\n",
              "         [12.,  3.],\n",
              "         [ 9.,  0.]]))"
            ]
          },
          "metadata": {
            "tags": []
          },
          "execution_count": 115
        }
      ]
    },
    {
      "metadata": {
        "id": "Zs3mCZS2RMU7",
        "colab_type": "code",
        "colab": {
          "base_uri": "https://localhost:8080/",
          "height": 50
        },
        "outputId": "426bacb9-6347-4d93-ca12-3fdcb763ae1f"
      },
      "cell_type": "code",
      "source": [
        "t.mm(a,b)"
      ],
      "execution_count": 117,
      "outputs": [
        {
          "output_type": "execute_result",
          "data": {
            "text/plain": [
              "tensor([[ 90.,   9.],\n",
              "        [414.,  90.]])"
            ]
          },
          "metadata": {
            "tags": []
          },
          "execution_count": 117
        }
      ]
    },
    {
      "metadata": {
        "id": "vVo_GooHROsi",
        "colab_type": "text"
      },
      "cell_type": "markdown",
      "source": [
        "### Tensor和Numpy\n",
        "Tensor和Numpy数组之间具有很高的相似性，彼此之间的互操作也非常简单高效。需要注意的是，Numpy和Tensor共享内存。由于Numpy历史悠久，支持丰富的操作，所以当遇到Tensor不支持的操作时，可先转成Numpy数组，处理后再转回tensor，其转换开销很小。"
      ]
    },
    {
      "metadata": {
        "id": "TANqiowsRboW",
        "colab_type": "code",
        "colab": {
          "base_uri": "https://localhost:8080/",
          "height": 50
        },
        "outputId": "1f8f6664-2f7d-47a7-a00e-8867feda8e97"
      },
      "cell_type": "code",
      "source": [
        "import numpy as np\n",
        "a=np.ones([2,3],dtype=np.float32)\n",
        "a"
      ],
      "execution_count": 118,
      "outputs": [
        {
          "output_type": "execute_result",
          "data": {
            "text/plain": [
              "array([[1., 1., 1.],\n",
              "       [1., 1., 1.]], dtype=float32)"
            ]
          },
          "metadata": {
            "tags": []
          },
          "execution_count": 118
        }
      ]
    },
    {
      "metadata": {
        "id": "50OfHhu3RlX7",
        "colab_type": "code",
        "colab": {
          "base_uri": "https://localhost:8080/",
          "height": 50
        },
        "outputId": "5cc61d93-5206-4e53-8d8b-badc373b332c"
      },
      "cell_type": "code",
      "source": [
        "b=t.from_numpy(a)\n",
        "b"
      ],
      "execution_count": 119,
      "outputs": [
        {
          "output_type": "execute_result",
          "data": {
            "text/plain": [
              "tensor([[1., 1., 1.],\n",
              "        [1., 1., 1.]])"
            ]
          },
          "metadata": {
            "tags": []
          },
          "execution_count": 119
        }
      ]
    },
    {
      "metadata": {
        "id": "xIHnRs6YRtNF",
        "colab_type": "code",
        "colab": {
          "base_uri": "https://localhost:8080/",
          "height": 50
        },
        "outputId": "2eb6d5df-07f9-455d-9ebd-89cbff71aa4d"
      },
      "cell_type": "code",
      "source": [
        "b=t.Tensor(a)\n",
        "b"
      ],
      "execution_count": 122,
      "outputs": [
        {
          "output_type": "execute_result",
          "data": {
            "text/plain": [
              "tensor([[1., 1., 1.],\n",
              "        [1., 1., 1.]])"
            ]
          },
          "metadata": {
            "tags": []
          },
          "execution_count": 122
        }
      ]
    },
    {
      "metadata": {
        "id": "chip89cKR3IK",
        "colab_type": "code",
        "colab": {
          "base_uri": "https://localhost:8080/",
          "height": 50
        },
        "outputId": "c34a91e0-2012-4afd-e3f1-c5b8de727481"
      },
      "cell_type": "code",
      "source": [
        "a[0,1]=100\n",
        "b"
      ],
      "execution_count": 125,
      "outputs": [
        {
          "output_type": "execute_result",
          "data": {
            "text/plain": [
              "tensor([[  1., 100.,   1.],\n",
              "        [  1.,   1.,   1.]])"
            ]
          },
          "metadata": {
            "tags": []
          },
          "execution_count": 125
        }
      ]
    },
    {
      "metadata": {
        "id": "GtFcTbg1R6Ul",
        "colab_type": "code",
        "colab": {
          "base_uri": "https://localhost:8080/",
          "height": 50
        },
        "outputId": "1a516853-9c2e-41dd-cd75-9e06e602dea3"
      },
      "cell_type": "code",
      "source": [
        "c=b.numpy()\n",
        "c"
      ],
      "execution_count": 126,
      "outputs": [
        {
          "output_type": "execute_result",
          "data": {
            "text/plain": [
              "array([[  1., 100.,   1.],\n",
              "       [  1.,   1.,   1.]], dtype=float32)"
            ]
          },
          "metadata": {
            "tags": []
          },
          "execution_count": 126
        }
      ]
    },
    {
      "metadata": {
        "id": "YPIsY7ZxSJi9",
        "colab_type": "text"
      },
      "cell_type": "markdown",
      "source": [
        "当numpy的数据类型和Tensor的类型不一样的时候，数据会被复制，不会共享内存。"
      ]
    },
    {
      "metadata": {
        "id": "3fRkOzZHSNJP",
        "colab_type": "code",
        "colab": {
          "base_uri": "https://localhost:8080/",
          "height": 34
        },
        "outputId": "b1f6787b-1062-4401-b9bc-e1653c664295"
      },
      "cell_type": "code",
      "source": [
        "a=np.ones((2,3))\n",
        "a.dtype"
      ],
      "execution_count": 127,
      "outputs": [
        {
          "output_type": "execute_result",
          "data": {
            "text/plain": [
              "dtype('float64')"
            ]
          },
          "metadata": {
            "tags": []
          },
          "execution_count": 127
        }
      ]
    },
    {
      "metadata": {
        "id": "1xsgnjykSVI3",
        "colab_type": "code",
        "colab": {
          "base_uri": "https://localhost:8080/",
          "height": 34
        },
        "outputId": "0e5f04a8-2bcb-42a4-ff4c-3fb9ef1b35b2"
      },
      "cell_type": "code",
      "source": [
        "b=t.Tensor(a) #进行拷贝，不共享内存\n",
        "b.dtype"
      ],
      "execution_count": 128,
      "outputs": [
        {
          "output_type": "execute_result",
          "data": {
            "text/plain": [
              "torch.float32"
            ]
          },
          "metadata": {
            "tags": []
          },
          "execution_count": 128
        }
      ]
    },
    {
      "metadata": {
        "id": "99rua99RSeH1",
        "colab_type": "code",
        "colab": {
          "base_uri": "https://localhost:8080/",
          "height": 50
        },
        "outputId": "3105dae5-cd4e-4b5f-934e-50f9f9ca36fb"
      },
      "cell_type": "code",
      "source": [
        "c=t.from_numpy(a)\n",
        "c"
      ],
      "execution_count": 129,
      "outputs": [
        {
          "output_type": "execute_result",
          "data": {
            "text/plain": [
              "tensor([[1., 1., 1.],\n",
              "        [1., 1., 1.]], dtype=torch.float64)"
            ]
          },
          "metadata": {
            "tags": []
          },
          "execution_count": 129
        }
      ]
    },
    {
      "metadata": {
        "id": "UoKU54aoSnNC",
        "colab_type": "code",
        "colab": {
          "base_uri": "https://localhost:8080/",
          "height": 50
        },
        "outputId": "7622b523-89eb-4a25-8fc3-f904a9cb32bd"
      },
      "cell_type": "code",
      "source": [
        "a[0,1]=100\n",
        "b"
      ],
      "execution_count": 130,
      "outputs": [
        {
          "output_type": "execute_result",
          "data": {
            "text/plain": [
              "tensor([[1., 1., 1.],\n",
              "        [1., 1., 1.]])"
            ]
          },
          "metadata": {
            "tags": []
          },
          "execution_count": 130
        }
      ]
    },
    {
      "metadata": {
        "id": "2-Q2dsRySrS5",
        "colab_type": "code",
        "colab": {
          "base_uri": "https://localhost:8080/",
          "height": 50
        },
        "outputId": "a076dd5b-8aef-472c-bd95-2f6d64954533"
      },
      "cell_type": "code",
      "source": [
        "c  #a和c共享内存，a和b不共享内存"
      ],
      "execution_count": 131,
      "outputs": [
        {
          "output_type": "execute_result",
          "data": {
            "text/plain": [
              "tensor([[  1., 100.,   1.],\n",
              "        [  1.,   1.,   1.]], dtype=torch.float64)"
            ]
          },
          "metadata": {
            "tags": []
          },
          "execution_count": 131
        }
      ]
    },
    {
      "metadata": {
        "id": "sXGIymcVSsLG",
        "colab_type": "text"
      },
      "cell_type": "markdown",
      "source": [
        "不论输入的类型是什么，t.tensor都会进行数据拷贝，不会共享内存"
      ]
    },
    {
      "metadata": {
        "id": "bB8Z-tklS3Vn",
        "colab_type": "code",
        "colab": {}
      },
      "cell_type": "code",
      "source": [
        "tensor=t.tensor(a)"
      ],
      "execution_count": 0,
      "outputs": []
    },
    {
      "metadata": {
        "id": "aS77fN97TAhB",
        "colab_type": "code",
        "colab": {
          "base_uri": "https://localhost:8080/",
          "height": 50
        },
        "outputId": "6f2a42b9-a9e0-4670-a7dd-1ba56d58c228"
      },
      "cell_type": "code",
      "source": [
        "tensor[0,0]=0\n",
        "a"
      ],
      "execution_count": 133,
      "outputs": [
        {
          "output_type": "execute_result",
          "data": {
            "text/plain": [
              "array([[  1., 100.,   1.],\n",
              "       [  1.,   1.,   1.]])"
            ]
          },
          "metadata": {
            "tags": []
          },
          "execution_count": 133
        }
      ]
    },
    {
      "metadata": {
        "id": "3C2XvdXZTC37",
        "colab_type": "text"
      },
      "cell_type": "markdown",
      "source": [
        "### 广播法则\n",
        "\n",
        "广播法则(broadcast)是科学运算中经常使用的一个技巧，它在快速执行向量化的同时不会占用额外的内存/显存。\n",
        "Numpy的广播法则定义如下：\n",
        "\n",
        "- 让所有输入数组都向其中shape最长的数组看齐，shape中不足的部分通过在前面加1补齐\n",
        "- 两个数组要么在某一个维度的长度一致，要么其中一个为1，否则不能计算 \n",
        "- 当输入数组的某个维度的长度为1时，计算时沿此维度复制扩充成一样的形状\n",
        "\n",
        "PyTorch当前已经支持了自动广播法则，但是笔者还是建议读者通过以下两个函数的组合手动实现广播法则，这样更直观，更不易出错：\n",
        "\n",
        "- `unsqueeze`或者`view`，或者tensor[None],：为数据某一维的形状补1，实现法则1\n",
        "- `expand`或者`expand_as`，重复数组，实现法则3；该操作不会复制数组，所以不会占用额外的空间。\n",
        "\n",
        "注意，repeat实现与expand相类似的功能，但是repeat会把相同数据复制多份，因此会占用额外的空间。"
      ]
    },
    {
      "metadata": {
        "id": "FgmZeVwGTMt2",
        "colab_type": "code",
        "colab": {
          "base_uri": "https://localhost:8080/",
          "height": 134
        },
        "outputId": "6d21a7ca-9a32-4897-8e9a-b285fce83073"
      },
      "cell_type": "code",
      "source": [
        "a=t.ones(3,2)\n",
        "b=t.zeros(2,3,1)\n",
        "\n",
        "# 自动广播法则\n",
        "# 第一步：a是2维,b是3维，所以先在较小的a前面补1 ，\n",
        "#               即：a.unsqueeze(0)，a的形状变成（1，3，2），b的形状是（2，3，1）,\n",
        "# 第二步:   a和b在第一维和第三维形状不一样，其中一个为1 ，\n",
        "#               可以利用广播法则扩展，两个形状都变成了（2，3，2）\n",
        "a+b"
      ],
      "execution_count": 134,
      "outputs": [
        {
          "output_type": "execute_result",
          "data": {
            "text/plain": [
              "tensor([[[1., 1.],\n",
              "         [1., 1.],\n",
              "         [1., 1.]],\n",
              "\n",
              "        [[1., 1.],\n",
              "         [1., 1.],\n",
              "         [1., 1.]]])"
            ]
          },
          "metadata": {
            "tags": []
          },
          "execution_count": 134
        }
      ]
    },
    {
      "metadata": {
        "id": "QsRh5DxrUJ4z",
        "colab_type": "code",
        "colab": {
          "base_uri": "https://localhost:8080/",
          "height": 134
        },
        "outputId": "f6dc8f36-817d-42f5-c63f-9102e7609eb4"
      },
      "cell_type": "code",
      "source": [
        "# 手动广播法则\n",
        "# 或者 a.view(1,3,2).expand(2,3,2)+b.expand(2,3,2)\n",
        "\n",
        "a[None].expand(2,3,2)+b.expand(2,3,2)"
      ],
      "execution_count": 135,
      "outputs": [
        {
          "output_type": "execute_result",
          "data": {
            "text/plain": [
              "tensor([[[1., 1.],\n",
              "         [1., 1.],\n",
              "         [1., 1.]],\n",
              "\n",
              "        [[1., 1.],\n",
              "         [1., 1.],\n",
              "         [1., 1.]]])"
            ]
          },
          "metadata": {
            "tags": []
          },
          "execution_count": 135
        }
      ]
    },
    {
      "metadata": {
        "id": "v-Q57-FQUf6i",
        "colab_type": "code",
        "colab": {}
      },
      "cell_type": "code",
      "source": [
        "# expand不会占用额外空间，只会在需要的时候才扩充，可极大节省内存\n",
        "e=a.unsqueeze(0).expand(10000,3,2)"
      ],
      "execution_count": 0,
      "outputs": []
    },
    {
      "metadata": {
        "id": "qO5QpsAeUuWo",
        "colab_type": "text"
      },
      "cell_type": "markdown",
      "source": [
        "### 内部结构\n",
        "\n",
        "tensor的数据结构如图3-1所示。tensor分为头信息区(Tensor)和存储区(Storage)，信息区主要保存着tensor的形状（size）、步长（stride）、数据类型（type）等信息，而真正的数据则保存成连续数组。由于数据动辄成千上万，因此信息区元素占用内存较少，主要内存占用则取决于tensor中元素的数目，也即存储区的大小。\n",
        "\n",
        "一般来说一个tensor有着与之相对应的storage, storage是在data之上封装的接口，便于使用，而不同tensor的头信息一般不同，但却可能使用相同的数据。下面看两个例子。\n",
        "\n",
        "\n",
        "![](http://localhost:8888/notebooks/pytorch/pytorch-book-master/chapter3-Tensor%E5%92%8Cautograd/imgs/tensor_data_structure.svg)"
      ]
    },
    {
      "metadata": {
        "id": "QzwPk-f2U-Ud",
        "colab_type": "code",
        "colab": {
          "base_uri": "https://localhost:8080/",
          "height": 134
        },
        "outputId": "cf7e60e5-0426-4098-854a-6f1718e81d16"
      },
      "cell_type": "code",
      "source": [
        "a=t.arange(0,6)\n",
        "a.storage()"
      ],
      "execution_count": 137,
      "outputs": [
        {
          "output_type": "execute_result",
          "data": {
            "text/plain": [
              " 0\n",
              " 1\n",
              " 2\n",
              " 3\n",
              " 4\n",
              " 5\n",
              "[torch.LongStorage of size 6]"
            ]
          },
          "metadata": {
            "tags": []
          },
          "execution_count": 137
        }
      ]
    },
    {
      "metadata": {
        "id": "wkC9ztX0Vses",
        "colab_type": "code",
        "colab": {
          "base_uri": "https://localhost:8080/",
          "height": 134
        },
        "outputId": "355f05ec-ed51-4b9a-bc85-e52ee86d23a6"
      },
      "cell_type": "code",
      "source": [
        "b=a.view(2,3)\n",
        "b.storage()"
      ],
      "execution_count": 139,
      "outputs": [
        {
          "output_type": "execute_result",
          "data": {
            "text/plain": [
              " 0\n",
              " 1\n",
              " 2\n",
              " 3\n",
              " 4\n",
              " 5\n",
              "[torch.LongStorage of size 6]"
            ]
          },
          "metadata": {
            "tags": []
          },
          "execution_count": 139
        }
      ]
    },
    {
      "metadata": {
        "id": "X1BpgcZTVwQl",
        "colab_type": "code",
        "colab": {
          "base_uri": "https://localhost:8080/",
          "height": 34
        },
        "outputId": "4673f12a-19fd-4d99-fd63-31560c197aa4"
      },
      "cell_type": "code",
      "source": [
        "# 一个对象的id值可以看作它在内存中的地址\n",
        "# storage的内存地址一样，即是同一个storage\n",
        "id(b.storage())==id(a.storage())"
      ],
      "execution_count": 140,
      "outputs": [
        {
          "output_type": "execute_result",
          "data": {
            "text/plain": [
              "True"
            ]
          },
          "metadata": {
            "tags": []
          },
          "execution_count": 140
        }
      ]
    },
    {
      "metadata": {
        "id": "kOAhgABtV_pX",
        "colab_type": "code",
        "colab": {
          "base_uri": "https://localhost:8080/",
          "height": 50
        },
        "outputId": "51b95329-447e-4f97-816e-f9d6594467c1"
      },
      "cell_type": "code",
      "source": [
        "# a改变，b也随之改变，因为他们共享storage\n",
        "a[1]=100\n",
        "b"
      ],
      "execution_count": 141,
      "outputs": [
        {
          "output_type": "execute_result",
          "data": {
            "text/plain": [
              "tensor([[  0, 100,   2],\n",
              "        [  3,   4,   5]])"
            ]
          },
          "metadata": {
            "tags": []
          },
          "execution_count": 141
        }
      ]
    },
    {
      "metadata": {
        "id": "IifBaFyWWEvk",
        "colab_type": "code",
        "colab": {
          "base_uri": "https://localhost:8080/",
          "height": 134
        },
        "outputId": "528788c7-7e2d-4cbb-9585-419fc74e9023"
      },
      "cell_type": "code",
      "source": [
        "c=a[2:]\n",
        "c.storage()"
      ],
      "execution_count": 142,
      "outputs": [
        {
          "output_type": "execute_result",
          "data": {
            "text/plain": [
              " 0\n",
              " 100\n",
              " 2\n",
              " 3\n",
              " 4\n",
              " 5\n",
              "[torch.LongStorage of size 6]"
            ]
          },
          "metadata": {
            "tags": []
          },
          "execution_count": 142
        }
      ]
    },
    {
      "metadata": {
        "id": "DlWFYooZWJIT",
        "colab_type": "code",
        "colab": {
          "base_uri": "https://localhost:8080/",
          "height": 34
        },
        "outputId": "6c6751b6-a313-4589-8c51-7e9b93c8b0d4"
      },
      "cell_type": "code",
      "source": [
        "c.data_ptr(),a.data_ptr()# data_ptr返回tensor首元素的内存地址\n",
        "# 可以看出相差8，这是因为2*4=8--相差两个元素，每个元素占4个字节(float)"
      ],
      "execution_count": 143,
      "outputs": [
        {
          "output_type": "execute_result",
          "data": {
            "text/plain": [
              "(93929408, 93929392)"
            ]
          },
          "metadata": {
            "tags": []
          },
          "execution_count": 143
        }
      ]
    },
    {
      "metadata": {
        "id": "5iT0corMWQOd",
        "colab_type": "code",
        "colab": {
          "base_uri": "https://localhost:8080/",
          "height": 34
        },
        "outputId": "8e64c05b-15e9-43bb-bc3b-41c5722523e3"
      },
      "cell_type": "code",
      "source": [
        "c[0]=-100\n",
        "a"
      ],
      "execution_count": 144,
      "outputs": [
        {
          "output_type": "execute_result",
          "data": {
            "text/plain": [
              "tensor([   0,  100, -100,    3,    4,    5])"
            ]
          },
          "metadata": {
            "tags": []
          },
          "execution_count": 144
        }
      ]
    },
    {
      "metadata": {
        "id": "VMo3uDt1WWs7",
        "colab_type": "code",
        "colab": {
          "base_uri": "https://localhost:8080/",
          "height": 198
        },
        "outputId": "dd505e48-92f0-4307-cd44-5c55a4b2bdf9"
      },
      "cell_type": "code",
      "source": [
        "d=t.Tensor(c.storage())\n",
        "d[0]=6666\n",
        "b"
      ],
      "execution_count": 145,
      "outputs": [
        {
          "output_type": "error",
          "ename": "RuntimeError",
          "evalue": "ignored",
          "traceback": [
            "\u001b[0;31m---------------------------------------------------------------------------\u001b[0m",
            "\u001b[0;31mRuntimeError\u001b[0m                              Traceback (most recent call last)",
            "\u001b[0;32m<ipython-input-145-75fa49751fa2>\u001b[0m in \u001b[0;36m<module>\u001b[0;34m()\u001b[0m\n\u001b[0;32m----> 1\u001b[0;31m \u001b[0md\u001b[0m\u001b[0;34m=\u001b[0m\u001b[0mt\u001b[0m\u001b[0;34m.\u001b[0m\u001b[0mTensor\u001b[0m\u001b[0;34m(\u001b[0m\u001b[0mc\u001b[0m\u001b[0;34m.\u001b[0m\u001b[0mstorage\u001b[0m\u001b[0;34m(\u001b[0m\u001b[0;34m)\u001b[0m\u001b[0;34m)\u001b[0m\u001b[0;34m\u001b[0m\u001b[0;34m\u001b[0m\u001b[0m\n\u001b[0m\u001b[1;32m      2\u001b[0m \u001b[0md\u001b[0m\u001b[0;34m[\u001b[0m\u001b[0;36m0\u001b[0m\u001b[0;34m]\u001b[0m\u001b[0;34m=\u001b[0m\u001b[0;36m6666\u001b[0m\u001b[0;34m\u001b[0m\u001b[0;34m\u001b[0m\u001b[0m\n\u001b[1;32m      3\u001b[0m \u001b[0mb\u001b[0m\u001b[0;34m\u001b[0m\u001b[0;34m\u001b[0m\u001b[0m\n",
            "\u001b[0;31mRuntimeError\u001b[0m: Expected object of data type 6 but got data type 4 for argument #2 'source'"
          ]
        }
      ]
    },
    {
      "metadata": {
        "id": "UdTAqnqmWeeI",
        "colab_type": "code",
        "colab": {
          "base_uri": "https://localhost:8080/",
          "height": 34
        },
        "outputId": "1647ce82-aea4-46e6-f452-117baceaf27c"
      },
      "cell_type": "code",
      "source": [
        "id(b.storage())==id(a.storage())==id(c.storage())"
      ],
      "execution_count": 146,
      "outputs": [
        {
          "output_type": "execute_result",
          "data": {
            "text/plain": [
              "True"
            ]
          },
          "metadata": {
            "tags": []
          },
          "execution_count": 146
        }
      ]
    },
    {
      "metadata": {
        "id": "QXjouwk1W7Vn",
        "colab_type": "code",
        "colab": {
          "base_uri": "https://localhost:8080/",
          "height": 34
        },
        "outputId": "6fa3f7b7-2f3a-4e49-fb11-54303df3e2a7"
      },
      "cell_type": "code",
      "source": [
        "e=b[::2,::2]\n",
        "id(b.storage())==id(e.storage())"
      ],
      "execution_count": 147,
      "outputs": [
        {
          "output_type": "execute_result",
          "data": {
            "text/plain": [
              "True"
            ]
          },
          "metadata": {
            "tags": []
          },
          "execution_count": 147
        }
      ]
    },
    {
      "metadata": {
        "id": "u4InwlMtXGUX",
        "colab_type": "code",
        "colab": {
          "base_uri": "https://localhost:8080/",
          "height": 34
        },
        "outputId": "af034bce-89b7-4180-c1bb-0b8c2c4507c7"
      },
      "cell_type": "code",
      "source": [
        "e"
      ],
      "execution_count": 148,
      "outputs": [
        {
          "output_type": "execute_result",
          "data": {
            "text/plain": [
              "tensor([[   0, -100]])"
            ]
          },
          "metadata": {
            "tags": []
          },
          "execution_count": 148
        }
      ]
    },
    {
      "metadata": {
        "id": "zmcHAQncXH1L",
        "colab_type": "code",
        "colab": {
          "base_uri": "https://localhost:8080/",
          "height": 34
        },
        "outputId": "ed0ddab4-1ee4-4e47-c355-3e1c1aabbb55"
      },
      "cell_type": "code",
      "source": [
        "b.stride(),e.stride()"
      ],
      "execution_count": 150,
      "outputs": [
        {
          "output_type": "execute_result",
          "data": {
            "text/plain": [
              "((3, 1), (6, 2))"
            ]
          },
          "metadata": {
            "tags": []
          },
          "execution_count": 150
        }
      ]
    },
    {
      "metadata": {
        "id": "Fl3L10mbXLat",
        "colab_type": "code",
        "colab": {
          "base_uri": "https://localhost:8080/",
          "height": 34
        },
        "outputId": "272f3d6f-b6aa-4655-ebe0-4faa15e15dd6"
      },
      "cell_type": "code",
      "source": [
        "e.is_contiguous()"
      ],
      "execution_count": 151,
      "outputs": [
        {
          "output_type": "execute_result",
          "data": {
            "text/plain": [
              "False"
            ]
          },
          "metadata": {
            "tags": []
          },
          "execution_count": 151
        }
      ]
    },
    {
      "metadata": {
        "id": "XyecxaI7XS51",
        "colab_type": "text"
      },
      "cell_type": "markdown",
      "source": [
        "可见绝大多数操作并不修改tensor的数据，而只是修改了tensor的头信息。这种做法更节省内存，同时提升了处理速度。在使用中需要注意。 此外有些操作会导致tensor不连续，这时需调用tensor.contiguous方法将它们变成连续的数据，该方法会使数据复制一份，不再与原来的数据共享storage。 另外读者可以思考一下，之前说过的高级索引一般不共享stroage，而普通索引共享storage，这是为什么？（提示：普通索引可以通过只修改tensor的offset，stride和size，而不修改storage来实现）。"
      ]
    },
    {
      "metadata": {
        "id": "2rXsThR8XXnu",
        "colab_type": "code",
        "colab": {
          "base_uri": "https://localhost:8080/",
          "height": 302
        },
        "outputId": "82f5e411-7ed3-439a-87a0-b6fdd6df9995"
      },
      "cell_type": "code",
      "source": [
        "!nvidia-smi"
      ],
      "execution_count": 154,
      "outputs": [
        {
          "output_type": "stream",
          "text": [
            "Tue Mar  5 15:02:04 2019       \n",
            "+-----------------------------------------------------------------------------+\n",
            "| NVIDIA-SMI 410.79       Driver Version: 410.79       CUDA Version: 10.0     |\n",
            "|-------------------------------+----------------------+----------------------+\n",
            "| GPU  Name        Persistence-M| Bus-Id        Disp.A | Volatile Uncorr. ECC |\n",
            "| Fan  Temp  Perf  Pwr:Usage/Cap|         Memory-Usage | GPU-Util  Compute M. |\n",
            "|===============================+======================+======================|\n",
            "|   0  Tesla K80           Off  | 00000000:00:04.0 Off |                    0 |\n",
            "| N/A   29C    P8    26W / 149W |      0MiB / 11441MiB |      0%      Default |\n",
            "+-------------------------------+----------------------+----------------------+\n",
            "                                                                               \n",
            "+-----------------------------------------------------------------------------+\n",
            "| Processes:                                                       GPU Memory |\n",
            "|  GPU       PID   Type   Process name                             Usage      |\n",
            "|=============================================================================|\n",
            "|  No running processes found                                                 |\n",
            "+-----------------------------------------------------------------------------+\n"
          ],
          "name": "stdout"
        }
      ]
    },
    {
      "metadata": {
        "id": "vxyVKishXsui",
        "colab_type": "code",
        "colab": {}
      },
      "cell_type": "code",
      "source": [
        ""
      ],
      "execution_count": 0,
      "outputs": []
    }
  ]
}